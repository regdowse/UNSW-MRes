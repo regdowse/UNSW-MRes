{
 "cells": [
  {
   "cell_type": "code",
   "execution_count": 1,
   "id": "ea381d9f-1af1-40f5-920c-deebd31b23e9",
   "metadata": {},
   "outputs": [],
   "source": [
    "import pickle\n",
    "with open('ROMS_26yr_daydic.pkl', 'rb') as file:\n",
    "    daydic = pickle.load(file)\n",
    "\n",
    "with open('ROMS_26yr_eddies.pkl', 'rb') as file:\n",
    "    eddies = pickle.load(file)"
   ]
  },
  {
   "cell_type": "code",
   "execution_count": 2,
   "id": "9b97756f-f86b-4ced-8cbc-33e98d7d6282",
   "metadata": {},
   "outputs": [],
   "source": [
    "import netCDF4 as nc\n",
    "import numpy as np\n",
    "import pandas as pd\n",
    "import math\n",
    "from sklearn.linear_model import LinearRegression\n",
    "import matplotlib.pyplot as plt\n",
    "\n",
    "fname = '/srv/scratch/z3533156/26year_BRAN2020/outer_avg_01461.nc'\n",
    "dataset = nc.Dataset(fname)\n",
    "lon_rho  = dataset.variables['lon_rho']\n",
    "lon_rho = np.transpose(lon_rho, axes=(1, 0))\n",
    "lat_rho  = dataset.variables['lat_rho']\n",
    "lat_rho = np.transpose(lat_rho, axes=(1, 0))\n",
    "z_r = np.load('/home/z5297792/MRes/z_r.npy')\n",
    "z_r = np.transpose(z_r, (1, 2, 0))\n",
    "h = dataset.variables['h']\n",
    "h = np.transpose(h, (1, 0))\n",
    "previous_file_idx = -1\n",
    "TOTAL_NUM_DAYS = len(daydic)"
   ]
  },
  {
   "cell_type": "code",
   "execution_count": 3,
   "id": "9a0ba17f-a410-42e2-9418-5350e8974474",
   "metadata": {},
   "outputs": [],
   "source": [
    "import re\n",
    "def extract_number(s):\n",
    "    match = re.search(r'\\d+', s)\n",
    "    return int(match.group()) if match else None\n",
    "\n",
    "def distance(lat1, lon1, lat2, lon2):\n",
    "    EARTH_RADIUS = 6357000  # in meters\n",
    "    lat1_rad = np.radians(lat1)\n",
    "    lon1_rad = np.radians(lon1)\n",
    "    lat2_rad = np.radians(lat2)\n",
    "    lon2_rad = np.radians(lon2)\n",
    "    dlat = lat2_rad - lat1_rad\n",
    "    dlon = lon2_rad - lon1_rad\n",
    "    a = np.sin(dlat / 2.0)**2 + np.cos(lat1_rad) * np.cos(lat2_rad) * np.sin(dlon / 2.0)**2\n",
    "    c = 2 * np.arctan2(np.sqrt(a), np.sqrt(1 - a))\n",
    "    return EARTH_RADIUS * c\n",
    "\n",
    "def grid_finder(i_search, j_search, SEARCH_WIDTH):\n",
    "    i_left = 0\n",
    "    i_right = 0\n",
    "    j_down = 0\n",
    "    j_up = 0\n",
    "    while (i_search - i_left >= 0 and \n",
    "           distance(lat_rho[i_search, j_search], lon_rho[i_search, j_search], \n",
    "                    lat_rho[i_search - i_left, j_search], lon_rho[i_search - i_left, j_search])) < SEARCH_WIDTH/2:\n",
    "        i_left += 1\n",
    "    while (i_search + i_right < lon_rho.shape[0] and\n",
    "           distance(lat_rho[i_search, j_search], lon_rho[i_search, j_search],\n",
    "                    lat_rho[i_search + i_right, j_search], lon_rho[i_search + i_right, j_search])) < SEARCH_WIDTH/2:\n",
    "        i_right += 1\n",
    "    while (j_search - j_down >= 0 and \n",
    "           distance(lat_rho[i_search, j_search], lon_rho[i_search, j_search], \n",
    "                    lat_rho[i_search, j_search - j_down], lon_rho[i_search, j_search - j_down])) < SEARCH_WIDTH/2:\n",
    "        j_down += 1\n",
    "    while (j_search + j_up < lon_rho.shape[1] and\n",
    "           distance(lat_rho[i_search, j_search], lon_rho[i_search, j_search],\n",
    "                    lat_rho[i_search, j_search + j_up], lon_rho[i_search, j_search + j_up])) < SEARCH_WIDTH/2:\n",
    "        j_up += 1\n",
    "\n",
    "    i_left = max(i_search - i_left + 1, 0)\n",
    "    i_right = min(i_search + i_right, lon_rho.shape[0])\n",
    "    j_up = min(j_search + j_up, lon_rho.shape[1])\n",
    "    j_down = max(j_search - j_down + 1, 0)\n",
    "\n",
    "    return i_left, i_right, j_down, j_up\n",
    "\n",
    "def eddy_centric_grid_distances(i_search, j_search, i_left, i_right, j_down, j_up):\n",
    "    lonc = lon_rho[i_search, j_search]\n",
    "    latc = lat_rho[i_search, j_search]\n",
    "    def make_left_values_negative(arr):\n",
    "        zero_index = np.where(arr == 0)[0]\n",
    "        if zero_index.size == 0:\n",
    "            return arr\n",
    "        zero_index = zero_index[0]\n",
    "        arr[:zero_index] = -np.abs(arr[:zero_index])\n",
    "        return arr\n",
    "    x = make_left_values_negative(distance(latc, lonc, lat_rho[i_left:i_right,j_search], lon_rho[i_left:i_right,j_search]))\n",
    "    y = make_left_values_negative(distance(latc, lonc, lat_rho[i_search,j_down:j_up], lon_rho[i_search,j_down:j_up]))\n",
    "    return x, y\n",
    "\n",
    "edata = eddies['Eddy15'].iloc[20]\n",
    "t = extract_number(edata.name)\n",
    "\n",
    "t_mod = t % 30\n",
    "file_idx = np.floor(t/30)\n",
    "if file_idx != previous_file_idx:\n",
    "    fnumber = '0'+str(round(1461+ file_idx*30))\n",
    "    u = np.load('/srv/scratch/z5297792/Climatology/u_v/u_'+fnumber+'.npy')\n",
    "    v = np.load('/srv/scratch/z5297792/Climatology/u_v/v_'+fnumber+'.npy')\n",
    "    CurSpeed = np.load('/srv/scratch/z5297792/Climatology/ow_and_cur_speeds/cur_speed_'+fnumber+'.npy')\n",
    "    ow = np.load('/srv/scratch/z5297792/Climatology/ow_and_cur_speeds/ow_'+fnumber+'.npy')\n",
    "    vort = np.load('/srv/scratch/z5297792/Climatology/vorts/vort_'+fnumber+'.npy')\n",
    "    previous_file_idx = file_idx"
   ]
  },
  {
   "cell_type": "markdown",
   "id": "d9476f6f-16ad-4e3e-9ab2-e82ba2140cc4",
   "metadata": {},
   "source": [
    "## Closed Contour Method\n"
   ]
  },
  {
   "cell_type": "code",
   "execution_count": 4,
   "id": "8b10cee7-7cda-4894-b996-28495f8f22ad",
   "metadata": {},
   "outputs": [
    {
     "data": {
      "text/plain": [
       "<matplotlib.colorbar.Colorbar at 0x154c3ba0c760>"
      ]
     },
     "execution_count": 4,
     "metadata": {},
     "output_type": "execute_result"
    },
    {
     "data": {
      "image/png": "[encoded data removed]",
      "text/plain": [
       "<Figure size 640x480 with 2 Axes>"
      ]
     },
     "metadata": {},
     "output_type": "display_data"
    }
   ],
   "source": [
    "R = np.sqrt((lon_rho - edata.Lon)**2 + (lat_rho - edata.Lat)**2)\n",
    "i_search, j_search = np.argwhere(R == np.min(R))[0]\n",
    "SEARCH_WIDTH = 150000\n",
    "DEPTH_LVL_LIMIT = 25\n",
    "\n",
    "i_left, i_right, j_down, j_up = grid_finder(i_search, j_search, SEARCH_WIDTH)\n",
    "\n",
    "x, y = eddy_centric_grid_distances(i_search, j_search, i_left, i_right, j_down, j_up)\n",
    "\n",
    "X, Y = np.meshgrid(x, y)\n",
    "\n",
    "vort_masked = vort[i_left:i_right, j_down:j_up, 20, t_mod]\n",
    "\n",
    "ax = plt.contourf(X, Y, vort_masked.T)\n",
    "plt.colorbar(ax)"
   ]
  },
  {
   "cell_type": "code",
   "execution_count": 2,
   "id": "413202fc-b72e-492b-bb64-38291bbac590",
   "metadata": {},
   "outputs": [],
   "source": [
    "def closed_convex_contour_checker(x, y, p, lvl):\n",
    "    xi = np.linspace(min(x), max(x), 100)\n",
    "    yi = np.linspace(min(y), max(y), 100)\n",
    "    xi, yi = np.meshgrid(xi, yi)\n",
    "    pi = griddata((x, y), p, (xi, yi), method='cubic')\n",
    "    contour_set = plt.contour(xi, yi, pi, levels=[lvl])\n",
    "    paths = contour_set.allsegs[0]\n",
    "    plt.close() \n",
    "    for path in paths:\n",
    "        vertices = np.array(path)\n",
    "\n",
    "    x = vertices[:, 0]\n",
    "    y = vertices[:, 1]\n",
    "\n",
    "    def is_closed_shape(x, y):\n",
    "        return x[0] == x[-1] and y[0] == y[-1]\n",
    "\n",
    "    def is_convex_shape(x, y):\n",
    "        def cross_product(o, a, b):\n",
    "            return (a[0] - o[0]) * (b[1] - o[1]) - (a[1] - o[1]) * (b[0] - o[0])\n",
    "        \n",
    "        n = len(x)\n",
    "        if n < 4:  # A convex polygon must have at least 3 vertices, and the first and last should be the same\n",
    "            return False\n",
    "        \n",
    "        sign = None\n",
    "        for i in range(n - 2):\n",
    "            p1, p2, p3 = (x[i], y[i]), (x[i+1], y[i+1]), (x[i+2], y[i+2])\n",
    "            cross_prod = cross_product(p1, p2, p3)\n",
    "            \n",
    "            if cross_prod != 0:\n",
    "                current_sign = np.sign(cross_prod)\n",
    "                if sign is None:\n",
    "                    sign = current_sign\n",
    "                elif sign != current_sign:\n",
    "                    return False\n",
    "        return True\n",
    "\n",
    "    if is_closed_shape(x, y) and is_convex_shape(x, y):\n",
    "        return True\n",
    "    else:\n",
    "        return false\n"
   ]
  },
  {
   "cell_type": "markdown",
   "id": "6313c8a1-1abf-44c9-ae8b-485e6eba6a95",
   "metadata": {},
   "source": [
    "## Lagrangian"
   ]
  },
  {
   "cell_type": "code",
   "execution_count": 74,
   "id": "7ca3cf92-bcc0-4630-8aca-19a926b9571e",
   "metadata": {},
   "outputs": [],
   "source": [
    "R = np.sqrt((lon_rho - edata.Lon)**2 + (lat_rho - edata.Lat)**2)\n",
    "i_search, j_search = np.argwhere(R == np.min(R))[0]\n",
    "SEARCH_WIDTH = 400000\n",
    "DEPTH_LVL_LIMIT = 25\n",
    "\n",
    "i_left, i_right, j_down, j_up = grid_finder(i_search, j_search, SEARCH_WIDTH)\n",
    "\n",
    "previous_file_idx = -1\n",
    "\n",
    "WIDTH = len(range(i_left, i_right))\n",
    "LENGTH = len(range(j_down, j_up))\n",
    "TIMES = 20\n",
    "\n",
    "u_data = np.full((WIDTH, LENGTH, TIMES), np.nan)\n",
    "v_data = np.full((WIDTH, LENGTH, TIMES), np.nan)\n",
    "\n",
    "for day in range(20):\n",
    "\n",
    "    edata = eddies['Eddy15'].iloc[day]\n",
    "    t = extract_number(edata.name)\n",
    "    \n",
    "    t_mod = t % 30\n",
    "    file_idx = np.floor(t/30)\n",
    "    if file_idx != previous_file_idx:\n",
    "        fnumber = '0'+str(round(1461+ file_idx*30))\n",
    "        uu = np.load('/srv/scratch/z5297792/Climatology/u_v/u_'+fnumber+'.npy')\n",
    "        vv = np.load('/srv/scratch/z5297792/Climatology/u_v/v_'+fnumber+'.npy')\n",
    "        previous_file_idx = file_idx\n",
    "\n",
    "    u_data[:,:,day] = uu[i_left:i_right, j_down:j_up, 5, t_mod]\n",
    "    v_data[:,:,day] = vv[i_left:i_right, j_down:j_up, 5, t_mod]"
   ]
  },
  {
   "cell_type": "code",
   "execution_count": 80,
   "id": "766ec423-736e-454f-9d66-04150acd9567",
   "metadata": {},
   "outputs": [
    {
     "data": {
      "text/plain": [
       "<matplotlib.contour.QuadContourSet at 0x154bfb547c40>"
      ]
     },
     "execution_count": 80,
     "metadata": {},
     "output_type": "execute_result"
    },
    {
     "data": {
      "image/png": "[encoded data removed]",
      "text/plain": [
       "<Figure size 640x480 with 1 Axes>"
      ]
     },
     "metadata": {},
     "output_type": "display_data"
    }
   ],
   "source": [
    "plt.contourf(u_data[:,:,19])"
   ]
  }
 ],
 "metadata": {
  "kernelspec": {
   "display_name": "Python 3.10.8 (ipykernel)",
   "language": "python",
   "name": "python3"
  },
  "language_info": {
   "codemirror_mode": {
    "name": "ipython",
    "version": 3
   },
   "file_extension": ".py",
   "mimetype": "text/x-python",
   "name": "python",
   "nbconvert_exporter": "python",
   "pygments_lexer": "ipython3",
   "version": "3.10.8"
  }
 },
 "nbformat": 4,
 "nbformat_minor": 5
}
