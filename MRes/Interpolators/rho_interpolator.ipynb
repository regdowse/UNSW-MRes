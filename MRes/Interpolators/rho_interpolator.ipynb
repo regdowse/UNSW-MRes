{
 "cells": [
  {
   "cell_type": "code",
   "execution_count": 1,
   "id": "63eacbfe-1d38-4aaf-88d2-1f492aac2833",
   "metadata": {},
   "outputs": [],
   "source": [
    "import numpy as np\n",
    "import pandas as pd\n",
    "\n",
    "df_eddies = pd.read_pickle('/srv/scratch/z5297792/Chapter2/SEACOFS_26yr_Eddy_Dataset/df_eddies_processed_1462_10650.pkl')\n",
    "sample_eddies = [474, 971, 1917, 1978, 33, 207, 1783, 2370]\n",
    "df_sample = df_eddies[df_eddies.Eddy.isin(sample_eddies)].copy()\n"
   ]
  },
  {
   "cell_type": "code",
   "execution_count": null,
   "id": "115db1fc-1242-428e-8b8b-12e4558a4a6f",
   "metadata": {},
   "outputs": [
    {
     "name": "stdout",
     "output_type": "stream",
     "text": [
      "4461\n"
     ]
    }
   ],
   "source": [
    "import netCDF4 as nc\n",
    "import numpy as np\n",
    "from scipy.interpolate import interp1d\n",
    "\n",
    "# fnumbers = [f'{num:05}' for num in range(1461, 3261+1, 30)] # last valid file 10641\n",
    "fnumbers = [int(fname[-8:-3]) for fname in df_sample.fname.unique()]\n",
    "fnumbers = np.array(fnumbers)[np.array(fnumbers) > 3261]\n",
    "\n",
    "z_r = np.load('/srv/scratch/z5297792/z_r.npy')\n",
    "z_r = np.transpose(z_r, (1, 2, 0))\n",
    "\n",
    "for fnumber in fnumbers:\n",
    "    print(fnumber)\n",
    "    fname = f'/srv/scratch/z3533156/26year_BRAN2020/outer_avg_{fnumber:05}.nc'\n",
    "    dataset = nc.Dataset(fname)\n",
    "\n",
    "    rho = dataset.variables['rho']\n",
    "    rho = np.transpose(rho, axes=(3, 2, 1, 0))\n",
    "    rho = np.flip(rho, axis=2)\n",
    "    depths = z_r[150,150,:]\n",
    "\n",
    "    def depth_interpolator(M,z_r,depths):\n",
    "\n",
    "        # Dimensions of M and z_r\n",
    "        dim_i, dim_j, dim_sigma, dim_time = M.shape\n",
    "        assert z_r.shape == (dim_i, dim_j, dim_sigma)\n",
    "\n",
    "        # Initialize interpolated matrix\n",
    "        M_interpolated = np.zeros((dim_i, dim_j, len(depths), dim_time))\n",
    "\n",
    "        # Interpolate for each day (time dimension)\n",
    "        for t in range(dim_time):\n",
    "            for i in range(dim_i):\n",
    "                for j in range(dim_j):\n",
    "                    # Get depth levels from z_r\n",
    "                    depth_levels = z_r[i, j, :]\n",
    "                    \n",
    "                    # Get values of M at each depth level for current time t\n",
    "                    values = M[i, j, :, t]\n",
    "                    \n",
    "                    # Perform interpolation\n",
    "                    if np.all(np.isnan(values)):\n",
    "                        # Handle case where all values are NaN (e.g., outside valid data range)\n",
    "                        interpolated_values = np.full(len(depths), np.nan)\n",
    "                    else:\n",
    "                        # Use linear interpolation\n",
    "                        interpolator = interp1d(depth_levels, values, kind='linear', bounds_error=False, fill_value=np.nan)\n",
    "                        interpolated_values = interpolator(depths)\n",
    "                    \n",
    "                    # Assign interpolated values to M_interpolated for current time t\n",
    "                    M_interpolated[i, j, :, t] = interpolated_values\n",
    "            M_interpolated[:,:, 0, t] = M[:,:,0,t]\n",
    "\n",
    "        return M_interpolated\n",
    "\n",
    "    rho = depth_interpolator(rho, z_r, depths)\n",
    "\n",
    "    np.save('/srv/scratch/z5297792/Climatology/rhos/rho_'+str(fnumber)+'.npy', rho)\n",
    "    \n",
    "    del rho"
   ]
  },
  {
   "cell_type": "code",
   "execution_count": null,
   "id": "0a1fbf7b-6959-404c-8b6c-ba927d9ba990",
   "metadata": {},
   "outputs": [],
   "source": []
  }
 ],
 "metadata": {
  "kernelspec": {
   "display_name": "Python 3.10.8 (ipykernel)",
   "language": "python",
   "name": "python3"
  },
  "language_info": {
   "codemirror_mode": {
    "name": "ipython",
    "version": 3
   },
   "file_extension": ".py",
   "mimetype": "text/x-python",
   "name": "python",
   "nbconvert_exporter": "python",
   "pygments_lexer": "ipython3",
   "version": "3.10.8"
  }
 },
 "nbformat": 4,
 "nbformat_minor": 5
}
