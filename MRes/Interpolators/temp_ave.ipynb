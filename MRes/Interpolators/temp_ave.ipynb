{
 "cells": [
  {
   "cell_type": "code",
   "execution_count": null,
   "id": "55904807-5b70-4b1a-b1e4-2066e5f09c7e",
   "metadata": {},
   "outputs": [],
   "source": [
    "import numpy as np\n",
    "import netCDF4 as nc\n",
    "\n",
    "# first file\n",
    "f0 = '/srv/scratch/z3533156/26year_BRAN2020/outer_avg_01461.nc'\n",
    "with nc.Dataset(f0) as ds:\n",
    "    temp = load_transform(ds.variables['temp'])\n",
    "    sum_all = np.nansum(temp, axis=3)                      # (x,y,z)\n",
    "    cnt_all = np.sum(~np.isnan(temp), axis=3).astype(np.int64)\n",
    "\n",
    "# remaining files\n",
    "fnumbers = [f'{num:05}' for num in range(1491, 10611+1, 30)]\n",
    "for fnum in fnumbers:\n",
    "    fname = f'/srv/scratch/z3533156/26year_BRAN2020/outer_avg_{fnum}.nc'\n",
    "    with nc.Dataset(fname) as ds:\n",
    "        temp = ds.variables['temp']\n",
    "        temp = np.transpose(temp, axes=(3, 2, 1, 0))\n",
    "        temp = np.flip(temp, axis=2)\n",
    "\n",
    "        sum_all += np.nansum(temp, axis=3)\n",
    "        cnt_all += np.sum(~np.isnan(temp), axis=3)\n",
    "    print(fnum)\n",
    "\n",
    "# climatological mean over all timesteps of all files\n",
    "temp_ave = sum_all / cnt_all\n",
    "temp_ave[np.isnan(temp_ave)] = np.nan  # keep NaNs where no data\n",
    "\n",
    "np.save('/srv/scratch/z5297792/Climatology/temp_ave_not_interpolated.npy', temp_ave)\n"
   ]
  }
 ],
 "metadata": {
  "kernelspec": {
   "display_name": "Python 3.10.8 (ipykernel)",
   "language": "python",
   "name": "python3"
  },
  "language_info": {
   "codemirror_mode": {
    "name": "ipython",
    "version": 3
   },
   "file_extension": ".py",
   "mimetype": "text/x-python",
   "name": "python",
   "nbconvert_exporter": "python",
   "pygments_lexer": "ipython3",
   "version": "3.10.8"
  }
 },
 "nbformat": 4,
 "nbformat_minor": 5
}
