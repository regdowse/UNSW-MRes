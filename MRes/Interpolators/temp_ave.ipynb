{
 "cells": [
  {
   "cell_type": "code",
   "execution_count": null,
   "id": "b6e36ae1-9959-4370-8b17-ccdfe7daf8f8",
   "metadata": {},
   "outputs": [
    {
     "name": "stdout",
     "output_type": "stream",
     "text": [
      "01491\n",
      "01521\n",
      "01551\n",
      "01581\n",
      "01611\n",
      "01641\n",
      "01671\n",
      "01701\n",
      "01731\n",
      "01761\n",
      "01791\n",
      "01821\n",
      "01851\n",
      "01881\n",
      "01911\n",
      "01941\n",
      "01971\n",
      "02001\n",
      "02031\n",
      "02061\n",
      "02091\n",
      "02121\n",
      "02151\n",
      "02181\n",
      "02211\n",
      "02241\n",
      "02271\n",
      "02301\n",
      "02331\n",
      "02361\n",
      "02391\n",
      "02421\n",
      "02451\n"
     ]
    },
    {
     "name": "stderr",
     "output_type": "stream",
     "text": [
      "/scratch/pbs.5620256.kman.restech.unsw.edu.au/ipykernel_3329172/3334759088.py:22: RuntimeWarning: overflow encountered in add\n",
      "  temp_sum = temp_sum + temp\n"
     ]
    },
    {
     "name": "stdout",
     "output_type": "stream",
     "text": [
      "02481\n",
      "02511\n",
      "02541\n",
      "02571\n",
      "02601\n",
      "02631\n",
      "02661\n",
      "02691\n",
      "02721\n",
      "02751\n",
      "02781\n",
      "02811\n",
      "02841\n",
      "02871\n",
      "02901\n",
      "02931\n",
      "02961\n",
      "02991\n",
      "03021\n"
     ]
    }
   ],
   "source": [
    "import numpy as np\n",
    "import netCDF4 as nc\n",
    "\n",
    "fname = '/srv/scratch/z3533156/26year_BRAN2020/outer_avg_01461.nc'\n",
    "dataset = nc.Dataset(fname)\n",
    "temp0 = dataset.variables['temp']\n",
    "temp0 = np.transpose(temp0, axes=(3, 2, 1, 0))\n",
    "temp0 = np.flip(temp0, axis=2)\n",
    "\n",
    "temp_sum = temp0\n",
    "\n",
    "\n",
    "fnumbers = [f'{num:05}' for num in range(1491, 10611+1, 30)]\n",
    "\n",
    "for fnumber in fnumbers:\n",
    "    fname = '/srv/scratch/z3533156/26year_BRAN2020/outer_avg_'+str(fnumber)+'.nc'\n",
    "    dataset = nc.Dataset(fname)\n",
    "    temp = dataset.variables['temp']\n",
    "    temp = np.transpose(temp, axes=(3, 2, 1, 0))\n",
    "    temp = np.flip(temp, axis=2)\n",
    "\n",
    "    temp_sum = temp_sum + temp\n",
    "\n",
    "    print(fnumber)\n",
    "\n",
    "    del temp\n",
    "\n",
    "temp_ave = temp_sum / (len(fnumbers)+1)\n",
    "\n",
    "temp_ave = np.mean(temp_ave, axis=3)\n",
    "\n",
    "np.save('/srv/scratch/z5297792/Climatology/temp_ave_not_interpolated.npy', temp_ave)"
   ]
  }
 ],
 "metadata": {
  "kernelspec": {
   "display_name": "Python 3.10.8 (ipykernel)",
   "language": "python",
   "name": "python3"
  },
  "language_info": {
   "codemirror_mode": {
    "name": "ipython",
    "version": 3
   },
   "file_extension": ".py",
   "mimetype": "text/x-python",
   "name": "python",
   "nbconvert_exporter": "python",
   "pygments_lexer": "ipython3",
   "version": "3.10.8"
  }
 },
 "nbformat": 4,
 "nbformat_minor": 5
}
