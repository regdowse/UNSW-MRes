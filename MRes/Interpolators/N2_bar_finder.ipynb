{
 "cells": [
  {
   "cell_type": "code",
   "execution_count": null,
   "id": "57b493b3-8080-44d1-bda8-674d315a7937",
   "metadata": {},
   "outputs": [
    {
     "name": "stderr",
     "output_type": "stream",
     "text": [
      "/scratch/pbs.6905923.kman.restech.unsw.edu.au/ipykernel_3876157/3916481685.py:25: RuntimeWarning: Mean of empty slice\n",
      "  N2_bar = np.nanmean(N2, axis=2)\n"
     ]
    },
    {
     "name": "stdout",
     "output_type": "stream",
     "text": [
      "01461\n"
     ]
    },
    {
     "name": "stderr",
     "output_type": "stream",
     "text": [
      "/scratch/pbs.6905923.kman.restech.unsw.edu.au/ipykernel_3876157/3916481685.py:25: RuntimeWarning: Mean of empty slice\n",
      "  N2_bar = np.nanmean(N2, axis=2)\n",
      "/scratch/pbs.6905923.kman.restech.unsw.edu.au/ipykernel_3876157/3916481685.py:25: RuntimeWarning: Mean of empty slice\n",
      "  N2_bar = np.nanmean(N2, axis=2)\n",
      "/scratch/pbs.6905923.kman.restech.unsw.edu.au/ipykernel_3876157/3916481685.py:25: RuntimeWarning: Mean of empty slice\n",
      "  N2_bar = np.nanmean(N2, axis=2)\n"
     ]
    }
   ],
   "source": [
    "import netCDF4 as nc\n",
    "import numpy as np\n",
    "from scipy.interpolate import interp1d\n",
    "import xarray as xr\n",
    "import xroms\n",
    "\n",
    "z_r = np.load('/srv/scratch/z5297792/z_r.npy')\n",
    "z_r = np.transpose(z_r, (1, 2, 0))\n",
    "\n",
    "fnumbers = [f'{num:05}' for num in range(1461, 10611+1, 30)] # last valid file 10611\n",
    "\n",
    "H = 1000\n",
    "for f, fnumber in enumerate(fnumbers):\n",
    "    fname = '/srv/scratch/z3533156/26year_BRAN2020/outer_avg_'+str(fnumber)+'.nc' \n",
    "    ds = xr.open_dataset(fname)\n",
    "    N2 = ds.xroms.N2\n",
    "    \n",
    "    N2 = np.transpose(N2.data, axes=(3, 2, 1, 0))\n",
    "    N2 = np.flip(N2, axis=2)\n",
    "    \n",
    "    i, j, k = np.where((-z_r) < H)\n",
    "    \n",
    "    N2[i, j, k, :] = np.nan\n",
    "    \n",
    "    N2_bar = np.nanmean(N2, axis=2) \n",
    "    \n",
    "    np.save('/srv/scratch/z5297792/Climatology/N2s/N2bar_'+str(fnumber)+'.npy', N2_bar)\n",
    "\n",
    "    if f % 10 == 0:\n",
    "        print(fnumber)\n"
   ]
  }
 ],
 "metadata": {
  "kernelspec": {
   "display_name": "Python 3.10.8 (ipykernel)",
   "language": "python",
   "name": "python3"
  },
  "language_info": {
   "codemirror_mode": {
    "name": "ipython",
    "version": 3
   },
   "file_extension": ".py",
   "mimetype": "text/x-python",
   "name": "python",
   "nbconvert_exporter": "python",
   "pygments_lexer": "ipython3",
   "version": "3.10.8"
  }
 },
 "nbformat": 4,
 "nbformat_minor": 5
}
