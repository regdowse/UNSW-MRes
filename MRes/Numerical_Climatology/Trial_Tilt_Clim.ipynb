{
 "cells": [
  {
   "cell_type": "code",
   "execution_count": 1,
   "id": "f67b02d4-daee-4a0b-b7c0-08d108da62b9",
   "metadata": {},
   "outputs": [],
   "source": [
    "import numpy as np\n",
    "import pandas as pd\n",
    "import matplotlib.pyplot as plt\n",
    "import pickle\n",
    "\n",
    "import sys\n",
    "sys.path.append(\"/home/z5297792/UNSW-MRes/MRes/modules\") \n",
    "from utils import dopioe\n",
    "\n",
    "df_eddies = pd.read_pickle('/srv/scratch/z5297792/Clim_data/df_eddies_processed.pkl')\n"
   ]
  },
  {
   "cell_type": "code",
   "execution_count": 2,
   "id": "b57f266d-7fb4-4af2-a32f-e4e5f11c34e9",
   "metadata": {},
   "outputs": [],
   "source": [
    "import netCDF4 as nc\n",
    "from scipy.interpolate import griddata\n",
    "import netCDF4 as nc\n",
    "from scipy.interpolate import RegularGridInterpolator\n",
    "import time\n",
    "\n",
    "# Field Data\n",
    "\n",
    "fname = f'/srv/scratch/z3533156/26year_BRAN2020/outer_avg_01461.nc'\n",
    "\n",
    "dataset = nc.Dataset(fname)\n",
    "\n",
    "lon_rho = np.transpose(dataset.variables['lon_rho'], axes=(1, 0))\n",
    "lat_rho = np.transpose(dataset.variables['lat_rho'], axes=(1, 0))\n",
    "mask_rho = np.transpose(dataset.variables['mask_rho'], axes=(1, 0))\n",
    "h =  np.transpose(dataset.variables['h'], axes=(1, 0))\n",
    "angle = dataset.variables['angle'][0, 0]\n",
    "z_r = np.load('/srv/scratch/z5297792/z_r.npy')\n",
    "z_r = np.transpose(z_r, (1, 2, 0))[150, 150, :]\n",
    "\n",
    "def distance(lat1, lon1, lat2, lon2):\n",
    "    EARTH_RADIUS = 6357\n",
    "    lat1, lon1, lat2, lon2 = map(np.radians, [lat1, lon1, lat2, lon2])\n",
    "    dlat, dlon = lat2 - lat1, lon2 - lon1\n",
    "    a = np.sin(dlat/2)**2 + np.cos(lat1)*np.cos(lat2)*np.sin(dlon/2)**2\n",
    "    return EARTH_RADIUS * 2 * np.arctan2(np.sqrt(a), np.sqrt(1 - a))\n",
    "\n",
    "j_mid = lon_rho.shape[1] // 2\n",
    "i_mid = lon_rho.shape[0] // 2\n",
    "\n",
    "dx = distance(lat_rho[:-1, j_mid], lon_rho[:-1, j_mid],\n",
    "              lat_rho[1:, j_mid], lon_rho[1:, j_mid])\n",
    "dy = distance(lat_rho[i_mid, :-1], lon_rho[i_mid, :-1],\n",
    "              lat_rho[i_mid, 1:], lon_rho[i_mid, 1:])\n",
    "\n",
    "x_grid = np.insert(np.cumsum(dx), 0, 0)\n",
    "y_grid = np.insert(np.cumsum(dy), 0, 0)\n",
    "X_grid, Y_grid = np.meshgrid(x_grid, y_grid, indexing='ij')\n",
    "\n",
    "res = 1  # 1 km resolution\n",
    "x_new = np.arange(0, x_grid[-1], res)\n",
    "y_new = np.arange(0, y_grid[-1], res)\n",
    "X_new, Y_new = np.meshgrid(x_new, y_new, indexing='ij')\n",
    "new_points = np.column_stack((X_new.ravel(), Y_new.ravel()))\n",
    "\n",
    "interp_lon = RegularGridInterpolator((x_grid, y_grid), lon_rho,\n",
    "                                     method='linear', bounds_error=False, fill_value=np.nan)\n",
    "interp_lat = RegularGridInterpolator((x_grid, y_grid), lat_rho,\n",
    "                                     method='linear', bounds_error=False, fill_value=np.nan)\n",
    "\n",
    "lon_new = interp_lon(new_points).reshape(len(x_new), len(y_new))\n",
    "lat_new = interp_lat(new_points).reshape(len(x_new), len(y_new))\n"
   ]
  },
  {
   "cell_type": "markdown",
   "id": "5b040c2a-893e-46e1-b2ab-2809fb279bc2",
   "metadata": {},
   "source": [
    "5 year Dataset i.e. starting from the second year.\n"
   ]
  },
  {
   "cell_type": "code",
   "execution_count": 3,
   "id": "fc29f8d6-17bb-4a6a-8640-2cdeeec0aa78",
   "metadata": {},
   "outputs": [
    {
     "data": {
      "text/html": [
       "<div>\n",
       "<style scoped>\n",
       "    .dataframe tbody tr th:only-of-type {\n",
       "        vertical-align: middle;\n",
       "    }\n",
       "\n",
       "    .dataframe tbody tr th {\n",
       "        vertical-align: top;\n",
       "    }\n",
       "\n",
       "    .dataframe thead th {\n",
       "        text-align: right;\n",
       "    }\n",
       "</style>\n",
       "<table border=\"1\" class=\"dataframe\">\n",
       "  <thead>\n",
       "    <tr style=\"text-align: right;\">\n",
       "      <th></th>\n",
       "      <th>Day</th>\n",
       "      <th>ID</th>\n",
       "      <th>Cyc</th>\n",
       "      <th>Lon</th>\n",
       "      <th>Lat</th>\n",
       "      <th>ic</th>\n",
       "      <th>jc</th>\n",
       "      <th>x0</th>\n",
       "      <th>y0</th>\n",
       "      <th>q11</th>\n",
       "      <th>q12</th>\n",
       "      <th>q22</th>\n",
       "      <th>w</th>\n",
       "      <th>Age</th>\n",
       "      <th>fname</th>\n",
       "    </tr>\n",
       "  </thead>\n",
       "  <tbody>\n",
       "    <tr>\n",
       "      <th>6190</th>\n",
       "      <td>1828</td>\n",
       "      <td>139</td>\n",
       "      <td>CE</td>\n",
       "      <td>157.059283</td>\n",
       "      <td>-31.185958</td>\n",
       "      <td>202</td>\n",
       "      <td>217</td>\n",
       "      <td>604.463444</td>\n",
       "      <td>1070.031206</td>\n",
       "      <td>-0.015698</td>\n",
       "      <td>0.005227</td>\n",
       "      <td>-0.005541</td>\n",
       "      <td>-0.042479</td>\n",
       "      <td>25</td>\n",
       "      <td>/srv/scratch/z3533156/26year_BRAN2020/outer_av...</td>\n",
       "    </tr>\n",
       "    <tr>\n",
       "      <th>6191</th>\n",
       "      <td>1829</td>\n",
       "      <td>139</td>\n",
       "      <td>CE</td>\n",
       "      <td>157.078842</td>\n",
       "      <td>-31.142351</td>\n",
       "      <td>202</td>\n",
       "      <td>218</td>\n",
       "      <td>604.826448</td>\n",
       "      <td>1075.256459</td>\n",
       "      <td>-0.014436</td>\n",
       "      <td>0.004031</td>\n",
       "      <td>-0.005326</td>\n",
       "      <td>-0.039524</td>\n",
       "      <td>25</td>\n",
       "      <td>/srv/scratch/z3533156/26year_BRAN2020/outer_av...</td>\n",
       "    </tr>\n",
       "    <tr>\n",
       "      <th>6192</th>\n",
       "      <td>1830</td>\n",
       "      <td>139</td>\n",
       "      <td>CE</td>\n",
       "      <td>157.124214</td>\n",
       "      <td>-31.078168</td>\n",
       "      <td>202</td>\n",
       "      <td>219</td>\n",
       "      <td>606.871022</td>\n",
       "      <td>1083.491221</td>\n",
       "      <td>-0.010992</td>\n",
       "      <td>0.002657</td>\n",
       "      <td>-0.004730</td>\n",
       "      <td>-0.031444</td>\n",
       "      <td>25</td>\n",
       "      <td>/srv/scratch/z3533156/26year_BRAN2020/outer_av...</td>\n",
       "    </tr>\n",
       "    <tr>\n",
       "      <th>6193</th>\n",
       "      <td>1831</td>\n",
       "      <td>139</td>\n",
       "      <td>CE</td>\n",
       "      <td>157.185960</td>\n",
       "      <td>-31.002953</td>\n",
       "      <td>203</td>\n",
       "      <td>221</td>\n",
       "      <td>610.051900</td>\n",
       "      <td>1093.424471</td>\n",
       "      <td>-0.008855</td>\n",
       "      <td>0.001169</td>\n",
       "      <td>-0.004493</td>\n",
       "      <td>-0.026696</td>\n",
       "      <td>25</td>\n",
       "      <td>/srv/scratch/z3533156/26year_BRAN2020/outer_av...</td>\n",
       "    </tr>\n",
       "    <tr>\n",
       "      <th>6194</th>\n",
       "      <td>1832</td>\n",
       "      <td>139</td>\n",
       "      <td>CE</td>\n",
       "      <td>157.244347</td>\n",
       "      <td>-30.967634</td>\n",
       "      <td>204</td>\n",
       "      <td>223</td>\n",
       "      <td>614.225702</td>\n",
       "      <td>1099.054308</td>\n",
       "      <td>-0.008279</td>\n",
       "      <td>0.000785</td>\n",
       "      <td>-0.004631</td>\n",
       "      <td>-0.025818</td>\n",
       "      <td>25</td>\n",
       "      <td>/srv/scratch/z3533156/26year_BRAN2020/outer_av...</td>\n",
       "    </tr>\n",
       "    <tr>\n",
       "      <th>...</th>\n",
       "      <td>...</td>\n",
       "      <td>...</td>\n",
       "      <td>...</td>\n",
       "      <td>...</td>\n",
       "      <td>...</td>\n",
       "      <td>...</td>\n",
       "      <td>...</td>\n",
       "      <td>...</td>\n",
       "      <td>...</td>\n",
       "      <td>...</td>\n",
       "      <td>...</td>\n",
       "      <td>...</td>\n",
       "      <td>...</td>\n",
       "      <td>...</td>\n",
       "      <td>...</td>\n",
       "    </tr>\n",
       "    <tr>\n",
       "      <th>30571</th>\n",
       "      <td>3646</td>\n",
       "      <td>661</td>\n",
       "      <td>CE</td>\n",
       "      <td>152.918833</td>\n",
       "      <td>-38.395610</td>\n",
       "      <td>171</td>\n",
       "      <td>37</td>\n",
       "      <td>476.237996</td>\n",
       "      <td>183.017279</td>\n",
       "      <td>-0.003693</td>\n",
       "      <td>0.002256</td>\n",
       "      <td>-0.006219</td>\n",
       "      <td>-0.019825</td>\n",
       "      <td>25</td>\n",
       "      <td>/srv/scratch/z3533156/26year_BRAN2020/outer_av...</td>\n",
       "    </tr>\n",
       "    <tr>\n",
       "      <th>30572</th>\n",
       "      <td>3647</td>\n",
       "      <td>661</td>\n",
       "      <td>CE</td>\n",
       "      <td>152.971481</td>\n",
       "      <td>-38.375238</td>\n",
       "      <td>172</td>\n",
       "      <td>38</td>\n",
       "      <td>479.971110</td>\n",
       "      <td>186.729214</td>\n",
       "      <td>-0.004736</td>\n",
       "      <td>0.002579</td>\n",
       "      <td>-0.005423</td>\n",
       "      <td>-0.020319</td>\n",
       "      <td>25</td>\n",
       "      <td>/srv/scratch/z3533156/26year_BRAN2020/outer_av...</td>\n",
       "    </tr>\n",
       "    <tr>\n",
       "      <th>30573</th>\n",
       "      <td>3648</td>\n",
       "      <td>661</td>\n",
       "      <td>CE</td>\n",
       "      <td>153.053559</td>\n",
       "      <td>-38.364292</td>\n",
       "      <td>174</td>\n",
       "      <td>39</td>\n",
       "      <td>486.464553</td>\n",
       "      <td>190.334431</td>\n",
       "      <td>-0.005506</td>\n",
       "      <td>0.003351</td>\n",
       "      <td>-0.005385</td>\n",
       "      <td>-0.021782</td>\n",
       "      <td>25</td>\n",
       "      <td>/srv/scratch/z3533156/26year_BRAN2020/outer_av...</td>\n",
       "    </tr>\n",
       "    <tr>\n",
       "      <th>30574</th>\n",
       "      <td>3649</td>\n",
       "      <td>661</td>\n",
       "      <td>CE</td>\n",
       "      <td>153.169057</td>\n",
       "      <td>-38.316516</td>\n",
       "      <td>176</td>\n",
       "      <td>40</td>\n",
       "      <td>494.571680</td>\n",
       "      <td>198.807592</td>\n",
       "      <td>-0.006269</td>\n",
       "      <td>0.003703</td>\n",
       "      <td>-0.005896</td>\n",
       "      <td>-0.024331</td>\n",
       "      <td>25</td>\n",
       "      <td>/srv/scratch/z3533156/26year_BRAN2020/outer_av...</td>\n",
       "    </tr>\n",
       "    <tr>\n",
       "      <th>30575</th>\n",
       "      <td>3650</td>\n",
       "      <td>661</td>\n",
       "      <td>CE</td>\n",
       "      <td>153.083466</td>\n",
       "      <td>-38.327543</td>\n",
       "      <td>174</td>\n",
       "      <td>40</td>\n",
       "      <td>487.780311</td>\n",
       "      <td>195.085839</td>\n",
       "      <td>-0.005774</td>\n",
       "      <td>0.004509</td>\n",
       "      <td>-0.006799</td>\n",
       "      <td>-0.025148</td>\n",
       "      <td>25</td>\n",
       "      <td>/srv/scratch/z3533156/26year_BRAN2020/outer_av...</td>\n",
       "    </tr>\n",
       "  </tbody>\n",
       "</table>\n",
       "<p>24120 rows × 15 columns</p>\n",
       "</div>"
      ],
      "text/plain": [
       "        Day   ID Cyc         Lon        Lat   ic   jc          x0  \\\n",
       "6190   1828  139  CE  157.059283 -31.185958  202  217  604.463444   \n",
       "6191   1829  139  CE  157.078842 -31.142351  202  218  604.826448   \n",
       "6192   1830  139  CE  157.124214 -31.078168  202  219  606.871022   \n",
       "6193   1831  139  CE  157.185960 -31.002953  203  221  610.051900   \n",
       "6194   1832  139  CE  157.244347 -30.967634  204  223  614.225702   \n",
       "...     ...  ...  ..         ...        ...  ...  ...         ...   \n",
       "30571  3646  661  CE  152.918833 -38.395610  171   37  476.237996   \n",
       "30572  3647  661  CE  152.971481 -38.375238  172   38  479.971110   \n",
       "30573  3648  661  CE  153.053559 -38.364292  174   39  486.464553   \n",
       "30574  3649  661  CE  153.169057 -38.316516  176   40  494.571680   \n",
       "30575  3650  661  CE  153.083466 -38.327543  174   40  487.780311   \n",
       "\n",
       "                y0       q11       q12       q22         w  Age  \\\n",
       "6190   1070.031206 -0.015698  0.005227 -0.005541 -0.042479   25   \n",
       "6191   1075.256459 -0.014436  0.004031 -0.005326 -0.039524   25   \n",
       "6192   1083.491221 -0.010992  0.002657 -0.004730 -0.031444   25   \n",
       "6193   1093.424471 -0.008855  0.001169 -0.004493 -0.026696   25   \n",
       "6194   1099.054308 -0.008279  0.000785 -0.004631 -0.025818   25   \n",
       "...            ...       ...       ...       ...       ...  ...   \n",
       "30571   183.017279 -0.003693  0.002256 -0.006219 -0.019825   25   \n",
       "30572   186.729214 -0.004736  0.002579 -0.005423 -0.020319   25   \n",
       "30573   190.334431 -0.005506  0.003351 -0.005385 -0.021782   25   \n",
       "30574   198.807592 -0.006269  0.003703 -0.005896 -0.024331   25   \n",
       "30575   195.085839 -0.005774  0.004509 -0.006799 -0.025148   25   \n",
       "\n",
       "                                                   fname  \n",
       "6190   /srv/scratch/z3533156/26year_BRAN2020/outer_av...  \n",
       "6191   /srv/scratch/z3533156/26year_BRAN2020/outer_av...  \n",
       "6192   /srv/scratch/z3533156/26year_BRAN2020/outer_av...  \n",
       "6193   /srv/scratch/z3533156/26year_BRAN2020/outer_av...  \n",
       "6194   /srv/scratch/z3533156/26year_BRAN2020/outer_av...  \n",
       "...                                                  ...  \n",
       "30571  /srv/scratch/z3533156/26year_BRAN2020/outer_av...  \n",
       "30572  /srv/scratch/z3533156/26year_BRAN2020/outer_av...  \n",
       "30573  /srv/scratch/z3533156/26year_BRAN2020/outer_av...  \n",
       "30574  /srv/scratch/z3533156/26year_BRAN2020/outer_av...  \n",
       "30575  /srv/scratch/z3533156/26year_BRAN2020/outer_av...  \n",
       "\n",
       "[24120 rows x 15 columns]"
      ]
     },
     "execution_count": 3,
     "metadata": {},
     "output_type": "execute_result"
    },
    {
     "data": {
      "image/png": "[encoded data removed]",
      "text/plain": [
       "<Figure size 640x480 with 1 Axes>"
      ]
     },
     "metadata": {},
     "output_type": "display_data"
    }
   ],
   "source": [
    "valid_eddies = []\n",
    "for eddy in df_eddies.ID.unique():\n",
    "    df = df_eddies[df_eddies.ID == eddy]\n",
    "    if np.all((df.Day >= 1827) & (df.Day <= 3652)):\n",
    "        valid_eddies.append(eddy)\n",
    "df_5yr_eddies = df_eddies[df_eddies.ID.isin(valid_eddies)]\n",
    "plt.contourf(lon_rho, lat_rho, np.where(mask_rho, h, np.nan)/1000, cmap='grey')\n",
    "for eddy in df_5yr_eddies.ID.unique():\n",
    "    df = df_5yr_eddies[df_5yr_eddies.ID==eddy]\n",
    "    plt.plot(df.Lon, df.Lat)\n",
    "plt.axis('equal')\n",
    "df_5yr_eddies\n"
   ]
  },
  {
   "cell_type": "markdown",
   "id": "6cace9d7-95ad-43be-9120-f1997b886478",
   "metadata": {},
   "source": [
    "Calculate there vertical centers"
   ]
  },
  {
   "cell_type": "code",
   "execution_count": 4,
   "id": "a8414233-ddb4-4a38-b1fb-82e63db6beb5",
   "metadata": {},
   "outputs": [],
   "source": [
    "def create_vertical_dataset(df_eddies, eddy, X, Y, z_r, r=30):\n",
    "\n",
    "    df = df_eddies[df_eddies['ID'] == eddy].copy()\n",
    "    dic_tilt = {f'Eddy{eddy}': {}}\n",
    "    fnumber_old = None\n",
    "    x, y = X[:,0], Y[0,:]\n",
    "    timer = 0\n",
    "\n",
    "    for t, data in df.iterrows():\n",
    "        day, fname, xc_surf, yc_surf, w_surf = data['Day'], data['fname'], data['x0'], data['y0'], data['w']\n",
    "        fnumber = fname[-8:-3]\n",
    "\n",
    "        # Only load if file changes\n",
    "        if fnumber != fnumber_old:\n",
    "            u_raw = np.load(f'/srv/scratch/z5297792/Climatology/u_v/u_{fnumber}.npy')\n",
    "            v_raw = np.load(f'/srv/scratch/z5297792/Climatology/u_v/v_{fnumber}.npy')\n",
    "            u_raw = np.where(np.abs(u_raw) > 1e30, np.nan, u_raw).astype(float)\n",
    "            v_raw = np.where(np.abs(v_raw) > 1e30, np.nan, v_raw).astype(float)\n",
    "            with nc.Dataset(fname) as dataset:\n",
    "                ocean_time = dataset.variables['ocean_time'][:].data / 86400\n",
    "            fnumber_old = fnumber\n",
    "        t_rel = np.where(ocean_time == day)[0][0]\n",
    "\n",
    "        u_t, v_t = u_raw[:, :, :, t_rel], v_raw[:, :, :, t_rel]\n",
    "\n",
    "        df_tilt = []\n",
    "        x0, y0 = xc_surf, yc_surf\n",
    "        x0_old, y0_old = xc_surf, yc_surf\n",
    "\n",
    "        # for k in range(24):\n",
    "        for k in range(u_t.shape[-1]):\n",
    "            u, v = u_t[:, :, k], v_t[:, :, k]\n",
    "\n",
    "            R_grid = np.hypot(x0 - X, y0 - Y)\n",
    "            ic, jc = map(int, np.unravel_index(np.argmin(R_grid), R_grid.shape))\n",
    "\n",
    "            margin = 5 # DOPIOE wont work if too close to boundary\n",
    "            if (ic < margin or ic >= X_grid.shape[0] - margin or\n",
    "                jc < margin or jc >= X_grid.shape[1] - margin):\n",
    "                break\n",
    "\n",
    "            # horizontal transect (constant y = y[jc])\n",
    "            x_mask = np.abs(x - x0) < r\n",
    "            x1 = x[x_mask]\n",
    "            y1 = np.full_like(x1, y[jc])\n",
    "            u1 = u[x_mask, jc]\n",
    "            v1 = v[x_mask, jc]\n",
    "        \n",
    "            # vertical transect (constant x = x[ic])\n",
    "            y_mask = np.abs(y - y0) < r\n",
    "            y2 = y[y_mask]\n",
    "            x2 = np.full_like(y2, x[ic])\n",
    "            u2 = u[ic, y_mask]\n",
    "            v2 = v[ic, y_mask]\n",
    "\n",
    "            x0, y0, w, Q, Rc, psi0 = dopioe(x1, y1, u1, v1, x2, y2, u2, v2)\n",
    "\n",
    "            if (np.sign(w) != np.sign(w_surf)) or (np.hypot(x0_old - x0, y0_old - y0) > 50):\n",
    "                break\n",
    "            else:\n",
    "                x0_old, y0_old = x0, y0\n",
    "\n",
    "            df_tilt.append({\n",
    "                'x': x0, 'y': y0, 'Q': Q, 'w': w,\n",
    "                'Rc': Rc, 'psi0': psi0,\n",
    "                'z': k, 'Depth': z_r[k]\n",
    "            })\n",
    "\n",
    "        if df_tilt:\n",
    "            df_tilt = pd.DataFrame(df_tilt)\n",
    "            dx = df_tilt['x'].diff()\n",
    "            dy = df_tilt['y'].diff()\n",
    "            df_tilt['TD'] = np.hypot(df_tilt['x'] - df_tilt.iloc[0]['x'],\n",
    "                                  df_tilt['y'] - df_tilt.iloc[0]['y'])\n",
    "            dic_tilt[f'Eddy{eddy}'][f'Day{day}'] = df_tilt\n",
    "        else:\n",
    "            dic_tilt[f'Eddy{eddy}'][f'Day{day}'] = pd.DataFrame(columns=['x', 'y', 'Q', 'w', 'Rc', 'psi0', 'z','Depth'])\n",
    "        \n",
    "    return dic_tilt\n",
    "    \n"
   ]
  },
  {
   "cell_type": "code",
   "execution_count": null,
   "id": "a682a01f-1a23-4cd6-878d-7ee2c6eade12",
   "metadata": {},
   "outputs": [
    {
     "name": "stdout",
     "output_type": "stream",
     "text": [
      "0/520\n",
      "1/520\n",
      "2/520\n"
     ]
    },
    {
     "name": "stderr",
     "output_type": "stream",
     "text": [
      "/home/z5297792/UNSW-MRes/MRes/modules/utils.py:271: RuntimeWarning: overflow encountered in exp\n",
      "  exp_term = np.exp(factor * phi)\n",
      "/home/z5297792/UNSW-MRes/MRes/modules/utils.py:271: RuntimeWarning: overflow encountered in exp\n",
      "  exp_term = np.exp(factor * phi)\n"
     ]
    },
    {
     "name": "stdout",
     "output_type": "stream",
     "text": [
      "3/520\n"
     ]
    },
    {
     "name": "stderr",
     "output_type": "stream",
     "text": [
      "/home/z5297792/UNSW-MRes/MRes/modules/utils.py:271: RuntimeWarning: overflow encountered in exp\n",
      "  exp_term = np.exp(factor * phi)\n"
     ]
    },
    {
     "name": "stdout",
     "output_type": "stream",
     "text": [
      "4/520\n",
      "5/520\n"
     ]
    },
    {
     "name": "stderr",
     "output_type": "stream",
     "text": [
      "/home/z5297792/UNSW-MRes/MRes/modules/utils.py:271: RuntimeWarning: overflow encountered in exp\n",
      "  exp_term = np.exp(factor * phi)\n",
      "/home/z5297792/UNSW-MRes/MRes/modules/utils.py:271: RuntimeWarning: overflow encountered in exp\n",
      "  exp_term = np.exp(factor * phi)\n"
     ]
    },
    {
     "name": "stdout",
     "output_type": "stream",
     "text": [
      "6/520\n",
      "7/520\n",
      "8/520\n"
     ]
    },
    {
     "name": "stderr",
     "output_type": "stream",
     "text": [
      "/home/z5297792/UNSW-MRes/MRes/modules/utils.py:271: RuntimeWarning: overflow encountered in exp\n",
      "  exp_term = np.exp(factor * phi)\n"
     ]
    },
    {
     "name": "stdout",
     "output_type": "stream",
     "text": [
      "9/520\n"
     ]
    },
    {
     "name": "stderr",
     "output_type": "stream",
     "text": [
      "/home/z5297792/UNSW-MRes/MRes/modules/utils.py:271: RuntimeWarning: overflow encountered in exp\n",
      "  exp_term = np.exp(factor * phi)\n"
     ]
    },
    {
     "name": "stdout",
     "output_type": "stream",
     "text": [
      "10/520\n",
      "11/520\n",
      "12/520\n",
      "13/520\n",
      "14/520\n",
      "15/520\n"
     ]
    },
    {
     "name": "stderr",
     "output_type": "stream",
     "text": [
      "/home/z5297792/.local/lib/python3.10/site-packages/scipy/optimize/_lsq/trf.py:289: RuntimeWarning: invalid value encountered in multiply\n",
      "  diag_h = g * dv * scale\n"
     ]
    },
    {
     "name": "stdout",
     "output_type": "stream",
     "text": [
      "16/520\n",
      "17/520\n"
     ]
    },
    {
     "name": "stderr",
     "output_type": "stream",
     "text": [
      "/home/z5297792/UNSW-MRes/MRes/modules/utils.py:271: RuntimeWarning: overflow encountered in exp\n",
      "  exp_term = np.exp(factor * phi)\n",
      "/home/z5297792/UNSW-MRes/MRes/modules/utils.py:271: RuntimeWarning: overflow encountered in exp\n",
      "  exp_term = np.exp(factor * phi)\n"
     ]
    },
    {
     "name": "stdout",
     "output_type": "stream",
     "text": [
      "18/520\n",
      "19/520\n",
      "20/520\n",
      "21/520\n"
     ]
    },
    {
     "name": "stderr",
     "output_type": "stream",
     "text": [
      "/home/z5297792/UNSW-MRes/MRes/modules/utils.py:271: RuntimeWarning: overflow encountered in exp\n",
      "  exp_term = np.exp(factor * phi)\n"
     ]
    },
    {
     "name": "stdout",
     "output_type": "stream",
     "text": [
      "22/520\n",
      "23/520\n"
     ]
    },
    {
     "name": "stderr",
     "output_type": "stream",
     "text": [
      "/home/z5297792/UNSW-MRes/MRes/modules/utils.py:271: RuntimeWarning: overflow encountered in exp\n",
      "  exp_term = np.exp(factor * phi)\n",
      "/home/z5297792/UNSW-MRes/MRes/modules/utils.py:271: RuntimeWarning: overflow encountered in exp\n",
      "  exp_term = np.exp(factor * phi)\n"
     ]
    },
    {
     "name": "stdout",
     "output_type": "stream",
     "text": [
      "24/520\n",
      "25/520\n",
      "26/520\n",
      "27/520\n",
      "28/520\n",
      "29/520\n",
      "30/520\n",
      "31/520\n",
      "32/520\n",
      "33/520\n",
      "34/520\n"
     ]
    },
    {
     "name": "stderr",
     "output_type": "stream",
     "text": [
      "/home/z5297792/UNSW-MRes/MRes/modules/utils.py:271: RuntimeWarning: overflow encountered in exp\n",
      "  exp_term = np.exp(factor * phi)\n"
     ]
    },
    {
     "name": "stdout",
     "output_type": "stream",
     "text": [
      "35/520\n",
      "36/520\n",
      "37/520\n",
      "38/520\n",
      "39/520\n",
      "40/520\n"
     ]
    },
    {
     "name": "stderr",
     "output_type": "stream",
     "text": [
      "/home/z5297792/UNSW-MRes/MRes/modules/utils.py:271: RuntimeWarning: overflow encountered in exp\n",
      "  exp_term = np.exp(factor * phi)\n",
      "/home/z5297792/.local/lib/python3.10/site-packages/scipy/optimize/_lsq/trf.py:289: RuntimeWarning: invalid value encountered in multiply\n",
      "  diag_h = g * dv * scale\n",
      "/home/z5297792/UNSW-MRes/MRes/modules/utils.py:271: RuntimeWarning: overflow encountered in exp\n",
      "  exp_term = np.exp(factor * phi)\n"
     ]
    },
    {
     "name": "stdout",
     "output_type": "stream",
     "text": [
      "41/520\n",
      "42/520\n"
     ]
    },
    {
     "name": "stderr",
     "output_type": "stream",
     "text": [
      "/home/z5297792/.local/lib/python3.10/site-packages/scipy/optimize/_lsq/trf.py:289: RuntimeWarning: invalid value encountered in multiply\n",
      "  diag_h = g * dv * scale\n"
     ]
    },
    {
     "name": "stdout",
     "output_type": "stream",
     "text": [
      "43/520\n",
      "44/520\n",
      "45/520\n",
      "46/520\n"
     ]
    },
    {
     "name": "stderr",
     "output_type": "stream",
     "text": [
      "/home/z5297792/UNSW-MRes/MRes/modules/utils.py:271: RuntimeWarning: overflow encountered in exp\n",
      "  exp_term = np.exp(factor * phi)\n"
     ]
    },
    {
     "name": "stdout",
     "output_type": "stream",
     "text": [
      "47/520\n"
     ]
    },
    {
     "name": "stderr",
     "output_type": "stream",
     "text": [
      "/home/z5297792/UNSW-MRes/MRes/modules/utils.py:271: RuntimeWarning: overflow encountered in exp\n",
      "  exp_term = np.exp(factor * phi)\n"
     ]
    },
    {
     "name": "stdout",
     "output_type": "stream",
     "text": [
      "48/520\n"
     ]
    },
    {
     "name": "stderr",
     "output_type": "stream",
     "text": [
      "/home/z5297792/UNSW-MRes/MRes/modules/utils.py:271: RuntimeWarning: overflow encountered in exp\n",
      "  exp_term = np.exp(factor * phi)\n",
      "/home/z5297792/UNSW-MRes/MRes/modules/utils.py:271: RuntimeWarning: overflow encountered in exp\n",
      "  exp_term = np.exp(factor * phi)\n"
     ]
    },
    {
     "name": "stdout",
     "output_type": "stream",
     "text": [
      "49/520\n",
      "50/520\n",
      "51/520\n",
      "52/520\n",
      "53/520\n",
      "54/520\n",
      "55/520\n"
     ]
    },
    {
     "name": "stderr",
     "output_type": "stream",
     "text": [
      "/home/z5297792/UNSW-MRes/MRes/modules/utils.py:271: RuntimeWarning: overflow encountered in exp\n",
      "  exp_term = np.exp(factor * phi)\n"
     ]
    },
    {
     "name": "stdout",
     "output_type": "stream",
     "text": [
      "56/520\n",
      "57/520\n",
      "58/520\n"
     ]
    },
    {
     "name": "stderr",
     "output_type": "stream",
     "text": [
      "/home/z5297792/UNSW-MRes/MRes/modules/utils.py:271: RuntimeWarning: overflow encountered in exp\n",
      "  exp_term = np.exp(factor * phi)\n"
     ]
    },
    {
     "name": "stdout",
     "output_type": "stream",
     "text": [
      "59/520\n"
     ]
    },
    {
     "name": "stderr",
     "output_type": "stream",
     "text": [
      "/home/z5297792/UNSW-MRes/MRes/modules/utils.py:271: RuntimeWarning: overflow encountered in exp\n",
      "  exp_term = np.exp(factor * phi)\n",
      "/home/z5297792/UNSW-MRes/MRes/modules/utils.py:271: RuntimeWarning: overflow encountered in exp\n",
      "  exp_term = np.exp(factor * phi)\n",
      "/home/z5297792/UNSW-MRes/MRes/modules/utils.py:271: RuntimeWarning: overflow encountered in exp\n",
      "  exp_term = np.exp(factor * phi)\n"
     ]
    },
    {
     "name": "stdout",
     "output_type": "stream",
     "text": [
      "60/520\n",
      "61/520\n"
     ]
    },
    {
     "name": "stderr",
     "output_type": "stream",
     "text": [
      "/home/z5297792/UNSW-MRes/MRes/modules/utils.py:271: RuntimeWarning: overflow encountered in exp\n",
      "  exp_term = np.exp(factor * phi)\n"
     ]
    },
    {
     "name": "stdout",
     "output_type": "stream",
     "text": [
      "62/520\n",
      "63/520\n",
      "64/520\n",
      "65/520\n",
      "66/520\n",
      "67/520\n",
      "68/520\n",
      "69/520\n",
      "70/520\n",
      "71/520\n",
      "72/520\n"
     ]
    },
    {
     "name": "stderr",
     "output_type": "stream",
     "text": [
      "/home/z5297792/UNSW-MRes/MRes/modules/utils.py:271: RuntimeWarning: overflow encountered in exp\n",
      "  exp_term = np.exp(factor * phi)\n",
      "/home/z5297792/UNSW-MRes/MRes/modules/utils.py:273: RuntimeWarning: overflow encountered in multiply\n",
      "  u = -factor * phi_y * exp_term * psi0\n",
      "/home/z5297792/UNSW-MRes/MRes/modules/utils.py:274: RuntimeWarning: overflow encountered in multiply\n",
      "  v = factor * phi_x * exp_term * psi0\n"
     ]
    },
    {
     "name": "stdout",
     "output_type": "stream",
     "text": [
      "73/520\n",
      "74/520\n",
      "75/520\n",
      "76/520\n",
      "77/520\n",
      "78/520\n",
      "79/520\n"
     ]
    },
    {
     "name": "stderr",
     "output_type": "stream",
     "text": [
      "/home/z5297792/UNSW-MRes/MRes/modules/utils.py:271: RuntimeWarning: overflow encountered in exp\n",
      "  exp_term = np.exp(factor * phi)\n"
     ]
    },
    {
     "name": "stdout",
     "output_type": "stream",
     "text": [
      "80/520\n",
      "81/520\n"
     ]
    },
    {
     "name": "stderr",
     "output_type": "stream",
     "text": [
      "/home/z5297792/UNSW-MRes/MRes/modules/utils.py:271: RuntimeWarning: overflow encountered in exp\n",
      "  exp_term = np.exp(factor * phi)\n"
     ]
    },
    {
     "name": "stdout",
     "output_type": "stream",
     "text": [
      "82/520\n",
      "83/520\n",
      "84/520\n",
      "85/520\n"
     ]
    },
    {
     "name": "stderr",
     "output_type": "stream",
     "text": [
      "/home/z5297792/UNSW-MRes/MRes/modules/utils.py:271: RuntimeWarning: overflow encountered in exp\n",
      "  exp_term = np.exp(factor * phi)\n"
     ]
    },
    {
     "name": "stdout",
     "output_type": "stream",
     "text": [
      "86/520\n"
     ]
    },
    {
     "name": "stderr",
     "output_type": "stream",
     "text": [
      "/home/z5297792/UNSW-MRes/MRes/modules/utils.py:271: RuntimeWarning: overflow encountered in exp\n",
      "  exp_term = np.exp(factor * phi)\n"
     ]
    },
    {
     "name": "stdout",
     "output_type": "stream",
     "text": [
      "87/520\n",
      "88/520\n",
      "89/520\n",
      "90/520\n",
      "91/520\n",
      "92/520\n"
     ]
    },
    {
     "name": "stderr",
     "output_type": "stream",
     "text": [
      "/home/z5297792/.local/lib/python3.10/site-packages/scipy/optimize/_lsq/trf.py:289: RuntimeWarning: invalid value encountered in multiply\n",
      "  diag_h = g * dv * scale\n",
      "/home/z5297792/UNSW-MRes/MRes/modules/utils.py:271: RuntimeWarning: overflow encountered in exp\n",
      "  exp_term = np.exp(factor * phi)\n"
     ]
    },
    {
     "name": "stdout",
     "output_type": "stream",
     "text": [
      "93/520\n",
      "94/520\n"
     ]
    },
    {
     "name": "stderr",
     "output_type": "stream",
     "text": [
      "/home/z5297792/UNSW-MRes/MRes/modules/utils.py:271: RuntimeWarning: overflow encountered in exp\n",
      "  exp_term = np.exp(factor * phi)\n"
     ]
    },
    {
     "name": "stdout",
     "output_type": "stream",
     "text": [
      "95/520\n"
     ]
    },
    {
     "name": "stderr",
     "output_type": "stream",
     "text": [
      "/home/z5297792/UNSW-MRes/MRes/modules/utils.py:271: RuntimeWarning: overflow encountered in exp\n",
      "  exp_term = np.exp(factor * phi)\n"
     ]
    },
    {
     "name": "stdout",
     "output_type": "stream",
     "text": [
      "96/520\n",
      "97/520\n"
     ]
    },
    {
     "name": "stderr",
     "output_type": "stream",
     "text": [
      "/home/z5297792/UNSW-MRes/MRes/modules/utils.py:271: RuntimeWarning: overflow encountered in exp\n",
      "  exp_term = np.exp(factor * phi)\n"
     ]
    },
    {
     "name": "stdout",
     "output_type": "stream",
     "text": [
      "98/520\n",
      "99/520\n",
      "100/520\n",
      "101/520\n"
     ]
    }
   ],
   "source": [
    "dic_5yr = {}\n",
    "for e, eddy in enumerate(df_5yr_eddies.ID.unique()):\n",
    "    dic = create_vertical_dataset(df_eddies, eddy, X_grid, Y_grid, z_r)\n",
    "    dic_5yr = dic_5yr | dic \n",
    "    print(f'{e}/{len(df_5yr_eddies.ID.unique())}')\n",
    "\n",
    "with open('/srv/scratch/z5297792/Clim_data/year_tests/dic_5year_1827_3652_vert_info.pkl', 'wb') as f:\n",
    "    pickle.dump(dic_5yr, f)\n"
   ]
  },
  {
   "cell_type": "code",
   "execution_count": null,
   "id": "7b7f8616-95db-4ddb-b319-f376dd876a2a",
   "metadata": {},
   "outputs": [],
   "source": [
    "# with open('/srv/scratch/z5297792/Clim_data/year_tests/dic_1year_1827_2192_vert_info.pkl', 'rb') as f:\n",
    "#     dic_1yr = pickle.load(f)\n",
    "    "
   ]
  },
  {
   "cell_type": "code",
   "execution_count": null,
   "id": "d1035d8a-69b8-4194-a12d-0f7c259674e5",
   "metadata": {},
   "outputs": [],
   "source": []
  },
  {
   "cell_type": "code",
   "execution_count": null,
   "id": "39038be7-d007-4695-80a6-649df29d2555",
   "metadata": {},
   "outputs": [],
   "source": [
    "def bearing(a, b):\n",
    "    dx = b[0] - a[0]\n",
    "    dy = b[1] - a[1]\n",
    "    angle_rad = np.arctan2(dx, dy)  # note the order: dx, dy\n",
    "    angle_deg = np.degrees(angle_rad)\n",
    "    bearing = (angle_deg + 360) % 360\n",
    "    return bearing\n",
    "\n",
    "def compute_tilt_data(dic, eddy, num=6, depth_int=10, max_depth=1000):\n",
    "    \n",
    "    df_tilt_data = pd.DataFrame(columns=['Eddy', 'Day', 'Tilt Dis', 'Tilt Dir'])\n",
    "    \n",
    "    diffs_x = {}\n",
    "    diffs_y = {}\n",
    "        \n",
    "    for d, day in enumerate(dic.keys()):\n",
    "    \n",
    "        df = dic[day].copy()\n",
    "        df['Depth'] = -df['Depth']\n",
    "        df = df[df['Depth'] <= max_depth]\n",
    "        # don’t drop rows — keep all depths, even if x or y are NaN\n",
    "        df = df.set_index('Depth').sort_index()\n",
    "\n",
    "        if len(df):\n",
    "        \n",
    "            depths       = df.index.values\n",
    "            # interpolate at every 10 m from 0 to max_depth\n",
    "            target_depths = np.arange(0, max_depth+1, depth_int)\n",
    "            valid = target_depths[\n",
    "                (target_depths >= depths.min()) &\n",
    "                (target_depths <= depths.max())\n",
    "            ]\n",
    "            if len(valid) < 2:\n",
    "                continue\n",
    "        \n",
    "            x_i = np.interp(valid, depths, df['x'].values)\n",
    "            y_i = np.interp(valid, depths, df['y'].values)\n",
    "        \n",
    "            dx = np.diff(x_i)\n",
    "            dy = np.diff(y_i)\n",
    "        \n",
    "            # delta = np.hypot(dx, dy)\n",
    "        \n",
    "            # use the actual depth levels (valid[:-1]) as the Series index\n",
    "            idx = valid[:-1]\n",
    "        \n",
    "            diffs_x[f'$t_{{{d}}}$'] = pd.Series(dx, index=idx)\n",
    "            diffs_y[f'$t_{{{d}}}$'] = pd.Series(dy, index=idx)\n",
    "\n",
    "        else:\n",
    "            idx = [10]\n",
    "            diffs_x[f'$t_{{{d}}}$'] = pd.Series(np.array([np.nan]*len(idx)), index=idx)\n",
    "            diffs_y[f'$t_{{{d}}}$'] = pd.Series(np.array([np.nan]*len(idx)), index=idx)\n",
    "            \n",
    "    \n",
    "    # now construct your DataFrames simply by passing the dict-of-series:\n",
    "    df_X_all = pd.DataFrame(diffs_x)\n",
    "    df_Y_all = pd.DataFrame(diffs_y)\n",
    "    \n",
    "    for ref_day in range(num //2, len(dic) - num //2):\n",
    "    \n",
    "        df_X = df_X_all.iloc[:, ref_day - num // 2:ref_day + num // 2 + 1]\n",
    "        df_Y = df_Y_all.iloc[:, ref_day - num // 2:ref_day + num // 2 + 1]\n",
    "        \n",
    "        # Calculation of variability at each depth\n",
    "        df_data = pd.DataFrame()\n",
    "        df_data[r'$\\Delta x$'] = df_X.mean(axis=1)\n",
    "        df_data[r'$\\Delta y$'] = df_Y.mean(axis=1)\n",
    "        df_data[r'$\\sum{\\Delta x}$'] = df_data[r'$\\Delta x$'].cumsum()\n",
    "        df_data[r'$\\sum{\\Delta y}$'] = df_data[r'$\\Delta y$'].cumsum()\n",
    "        df_data[r'$\\sigma^2_{\\Delta x}$'] = df_X.std(axis=1)\n",
    "        df_data[r'$\\sigma^2_{\\Delta y}$'] = df_Y.std(axis=1)\n",
    "        df_data[r'Total $\\sigma^2$'] = df_data[r'$\\sigma^2_{\\Delta x}$'] + df_data[r'$\\sigma^2_{\\Delta y}$']\n",
    "        df_data['weight'] = 1 / df_data[r'Total $\\sigma^2$']\n",
    "        df_data['Depth'] = df_data.index \n",
    "        df_data\n",
    "        \n",
    "        # Line of Best Fit\n",
    "        \n",
    "        # your data arrays of shape (N,)\n",
    "        x = df_data[r'$\\sum{\\Delta x}$'].values\n",
    "        y = df_data[r'$\\sum{\\Delta y}$'].values\n",
    "        z = df_data['Depth'].values\n",
    "        w = df_data['weight'].values\n",
    "        \n",
    "        # 1. compute weighted mean\n",
    "        W = np.sum(w)\n",
    "        mean = np.array([np.dot(w, x),\n",
    "                         np.dot(w, y),\n",
    "                         np.dot(w, z)]) / W\n",
    "        \n",
    "        # 2. center and weight the data\n",
    "        X = np.vstack((x, y, z)).T\n",
    "        Xc = X - mean\n",
    "        Xw = Xc * np.sqrt(w)[:, None]\n",
    "        \n",
    "        # 3. SVD on weighted, centered data\n",
    "        try:\n",
    "            flag = 0\n",
    "            _, _, Vt = np.linalg.svd(Xw, full_matrices=False)\n",
    "        except Exception:\n",
    "            flag = 1\n",
    "            # print(f\"Eddy{eddy} on day {list(dic.keys())[ref_day][3:]} did not have a measurable profile\")\n",
    "            \n",
    "        if flag:\n",
    "            \n",
    "            df_tilt_data.loc[len(df_tilt_data)] = {'Eddy': eddy, 'Day': list(dic.keys())[ref_day][3:], 'Tilt Dis': np.nan, 'Tilt Dir': np.nan}\n",
    "            \n",
    "        else:\n",
    "            \n",
    "            direction = Vt[0]   # principal axis\n",
    "            \n",
    "            # The best-fit line is:  p(t) = mean + t * direction\n",
    "            t = np.linspace((np.max(z)-mean[2])/direction[2], (np.min(z)-mean[2])/direction[2], 2)            # shape (100,)\n",
    "            p = mean[None, :] + t[:, None] * direction  # shape (100,3)\n",
    "            # or equivalently\n",
    "            p = mean + np.outer(t, direction)          # also (100,3)\n",
    "            \n",
    "            # then split back out if you need x,y,z separately:\n",
    "            x_line, y_line, z_line = p.T\n",
    "            \n",
    "            tilt_dist = np.hypot(x_line[0]-x_line[1], y_line[0]-y_line[1])\n",
    "            \n",
    "            top_idx = np.where(np.abs(z_line)==np.min(np.abs(z_line)))[0][0]\n",
    "            if top_idx == 1:\n",
    "                btm_idx = 0\n",
    "            else:\n",
    "                btm_idx = 1\n",
    "            top = [x_line[top_idx], y_line[top_idx], z_line[top_idx]]\n",
    "            btm = [x_line[btm_idx], y_line[btm_idx], z_line[btm_idx]]\n",
    "            tilt_direc = ( bearing(btm, top) + 20 ) % 360\n",
    "        \n",
    "            df_tilt_data.loc[len(df_tilt_data)] = {'Eddy': eddy, 'Day': list(dic.keys())[ref_day][3:], 'Tilt Dis': tilt_dist, 'Tilt Dir': tilt_direc}\n",
    "        \n",
    "    return df_tilt_data\n"
   ]
  },
  {
   "cell_type": "code",
   "execution_count": null,
   "id": "b6107f44-4eb6-4380-981e-4357d6661dff",
   "metadata": {},
   "outputs": [],
   "source": [
    "for e, eddy in enumerate(dic_5yr.keys()):\n",
    "    dic = dic_5yr[eddy]\n",
    "    df = compute_tilt_data(dic, int(eddy[4:]))\n",
    "    if e == 0:\n",
    "        df_tilt_data = df\n",
    "    else:\n",
    "        df_tilt_data = pd.concat([df_tilt_data, df], ignore_index=True)\n"
   ]
  },
  {
   "cell_type": "code",
   "execution_count": null,
   "id": "7cd64f82-b52a-4748-a12e-dd34447088d0",
   "metadata": {},
   "outputs": [],
   "source": [
    "df_tilt_data\n"
   ]
  },
  {
   "cell_type": "code",
   "execution_count": null,
   "id": "9da43e8d-f679-4696-8a1f-05bf18755631",
   "metadata": {},
   "outputs": [],
   "source": [
    "df_tilt_data.Eddy.unique()"
   ]
  },
  {
   "cell_type": "code",
   "execution_count": null,
   "id": "082bd292-ef72-4d90-be5e-2cb43e593e7e",
   "metadata": {},
   "outputs": [],
   "source": [
    "df = df_tilt_data[df_tilt_data.Eddy==237].copy().dropna()\n",
    "\n",
    "r = df['Tilt Dis'].values\n",
    "theta = df['Tilt Dir'].values\n",
    "\n",
    "u = r * np.cos(theta)  # x-component\n",
    "v = r * np.sin(theta)  # y-component\n",
    "\n",
    "# Plot quiver from the origin (0, 0)\n",
    "plt.figure(figsize=(6, 6))\n",
    "plt.quiver(np.zeros_like(r), np.zeros_like(r), u, v, angles='xy', scale_units='xy', scale=1)\n",
    "plt.xlim(-max(r)-1, max(r)+1)\n",
    "plt.ylim(-max(r)-1, max(r)+1)\n",
    "plt.gca().set_aspect('equal')\n",
    "plt.grid(True)\n",
    "plt.show()\n"
   ]
  },
  {
   "cell_type": "code",
   "execution_count": null,
   "id": "d18a090e-8a85-45a4-a77b-77c21d96b22a",
   "metadata": {},
   "outputs": [],
   "source": [
    "# def point_b(a, r, theta_deg):\n",
    "#     theta_rad = np.radians(theta_deg)\n",
    "#     dx = r * np.cos(theta_rad)\n",
    "#     dy = r * np.sin(theta_rad)\n",
    "#     return a[0] + dx, a[1] + dy\n",
    "\n",
    "# def km_to_deg(km, lat, bearing_deg):\n",
    "#     lat_rad = np.radians(lat)\n",
    "#     bearing_rad = np.radians(bearing_deg)\n",
    "\n",
    "#     # km per degree\n",
    "#     km_per_deg_lat = 111.32\n",
    "#     km_per_deg_lon = 111.32 * np.cos(lat_rad)\n",
    "\n",
    "#     # project distance onto lat/lon directions\n",
    "#     dlat = km * np.sin(bearing_rad) / km_per_deg_lat\n",
    "#     dlon = km * np.cos(bearing_rad) / km_per_deg_lon\n",
    "\n",
    "#     # total angular distance in degrees\n",
    "#     return np.hypot(dlat, dlon)\n",
    "\n",
    "# fig, ax = plt.subplots(1, 1, figsize=(10,6))\n",
    "# cf0 = ax.contourf(lon_rho, lat_rho, np.where(mask_rho, h/1000, np.nan), cmap='gray')\n",
    "\n",
    "# # Add horizontal colorbars at the top\n",
    "# fig.colorbar(cf0, ax=ax, orientation='horizontal', location='top', pad=0.1, label='[km]')\n",
    "\n",
    "# for e, eddy in enumerate(df_tilt_data.Eddy.unique()):\n",
    "#     df = df_tilt_data[df_tilt_data.Eddy==eddy]\n",
    "#     df_eddy = df_eddies[df_eddies.ID==eddy]\n",
    "#     ax.plot(df_eddy.Lon, df_eddy.Lat, linewidth=.5)\n",
    "\n",
    "#     for d, day in enumerate(df.Day.unique()):\n",
    "#         data = df[df.Day==day]\n",
    "#         tilt_dis = data.iloc[0]['Tilt Dis']\n",
    "#         tilt_dir = data.iloc[0]['Tilt Dir']\n",
    "#         plot_data = df_eddies[(df_eddies.ID==eddy) & (df_eddies.Day==int(day))]\n",
    "#         elon, elat = plot_data.iloc[0].Lon, plot_data.iloc[0].Lat\n",
    "#         lon_btm, lat_btm = point_b([elon, elat], km_to_deg(tilt_dis, elat, (tilt_dir + 180) % 360), (tilt_dir + 180) % 360)\n",
    "#         ax.plot([elon, lon_btm], [elat, lat_btm], zorder=2)\n",
    "#         cyc = df_eddies[df_eddies.ID==eddy].iloc[0].Cyc\n",
    "#         if np.isnan(tilt_dis):\n",
    "#             ax.scatter(elon, elat, s=10, zorder=3, facecolors='none')\n",
    "#         else:\n",
    "#             ax.scatter(elon, elat, s=10, zorder=3)#\n",
    "# ax.axis('equal')\n",
    "# ax.set_xlim(150, 159)\n",
    "# ax.set_ylim(-39, -26)\n",
    "# ax.set_xlabel('Longitude (°E)')\n",
    "# ax.set_ylabel('Latitude (°N)')\n",
    "\n",
    "# plt.tight_layout()"
   ]
  },
  {
   "cell_type": "code",
   "execution_count": null,
   "id": "d856298b-dc1b-48d8-912e-920518285349",
   "metadata": {},
   "outputs": [],
   "source": [
    "plt.figure(figsize=(15,4))\n",
    "for eddy in df_tilt_data.Eddy.unique():\n",
    "    df = df_tilt_data[df_tilt_data.Eddy==eddy]\n",
    "    plt.plot(np.arange(len(df)), df['Tilt Dis'])\n",
    "    plt.xlabel('Day')\n",
    "    plt.ylabel('Tilt Distance (km)')\n",
    "    "
   ]
  }
 ],
 "metadata": {
  "kernelspec": {
   "display_name": "Python 3.10.8 (ipykernel)",
   "language": "python",
   "name": "python3"
  },
  "language_info": {
   "codemirror_mode": {
    "name": "ipython",
    "version": 3
   },
   "file_extension": ".py",
   "mimetype": "text/x-python",
   "name": "python",
   "nbconvert_exporter": "python",
   "pygments_lexer": "ipython3",
   "version": "3.10.8"
  }
 },
 "nbformat": 4,
 "nbformat_minor": 5
}
