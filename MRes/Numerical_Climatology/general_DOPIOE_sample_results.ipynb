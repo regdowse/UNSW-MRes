{
 "cells": [
  {
   "cell_type": "markdown",
   "id": "db39362f-019d-4ea1-b3d9-a087d9200fcb",
   "metadata": {},
   "source": [
    "Make some nice plots of the results using DOPIOE with depth on hte sample eddies. "
   ]
  }
 ],
 "metadata": {
  "kernelspec": {
   "display_name": "Python 3.10.8 (ipykernel)",
   "language": "python",
   "name": "python3"
  },
  "language_info": {
   "codemirror_mode": {
    "name": "ipython",
    "version": 3
   },
   "file_extension": ".py",
   "mimetype": "text/x-python",
   "name": "python",
   "nbconvert_exporter": "python",
   "pygments_lexer": "ipython3",
   "version": "3.10.8"
  }
 },
 "nbformat": 4,
 "nbformat_minor": 5
}
