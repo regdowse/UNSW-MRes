{
 "cells": [
  {
   "cell_type": "code",
   "execution_count": 1,
   "id": "43dab3d2-3a1d-4f5a-80c6-21c52c9906d1",
   "metadata": {},
   "outputs": [
    {
     "data": {
      "text/html": [
       "<div>\n",
       "<style scoped>\n",
       "    .dataframe tbody tr th:only-of-type {\n",
       "        vertical-align: middle;\n",
       "    }\n",
       "\n",
       "    .dataframe tbody tr th {\n",
       "        vertical-align: top;\n",
       "    }\n",
       "\n",
       "    .dataframe thead th {\n",
       "        text-align: right;\n",
       "    }\n",
       "</style>\n",
       "<table border=\"1\" class=\"dataframe\">\n",
       "  <thead>\n",
       "    <tr style=\"text-align: right;\">\n",
       "      <th></th>\n",
       "      <th>Eddy</th>\n",
       "      <th>Day</th>\n",
       "      <th>Cyc</th>\n",
       "      <th>Lon</th>\n",
       "      <th>Lat</th>\n",
       "      <th>ic</th>\n",
       "      <th>jc</th>\n",
       "      <th>xc</th>\n",
       "      <th>yc</th>\n",
       "      <th>w</th>\n",
       "      <th>Q11</th>\n",
       "      <th>Q12</th>\n",
       "      <th>Q22</th>\n",
       "      <th>Rc</th>\n",
       "      <th>psi0</th>\n",
       "      <th>Age</th>\n",
       "      <th>fname</th>\n",
       "    </tr>\n",
       "  </thead>\n",
       "  <tbody>\n",
       "    <tr>\n",
       "      <th>0</th>\n",
       "      <td>1</td>\n",
       "      <td>1462</td>\n",
       "      <td>CE</td>\n",
       "      <td>156.969773</td>\n",
       "      <td>-28.461100</td>\n",
       "      <td>179</td>\n",
       "      <td>274</td>\n",
       "      <td>505.897600</td>\n",
       "      <td>1353.012251</td>\n",
       "      <td>-0.000033</td>\n",
       "      <td>-0.008769</td>\n",
       "      <td>0.001546</td>\n",
       "      <td>-0.007521</td>\n",
       "      <td>69.500036</td>\n",
       "      <td>70.832145</td>\n",
       "      <td>57</td>\n",
       "      <td>/srv/scratch/z3533156/26year_BRAN2020/outer_av...</td>\n",
       "    </tr>\n",
       "    <tr>\n",
       "      <th>1</th>\n",
       "      <td>1</td>\n",
       "      <td>1463</td>\n",
       "      <td>CE</td>\n",
       "      <td>156.993096</td>\n",
       "      <td>-28.433992</td>\n",
       "      <td>179</td>\n",
       "      <td>275</td>\n",
       "      <td>507.149717</td>\n",
       "      <td>1356.633687</td>\n",
       "      <td>-0.000030</td>\n",
       "      <td>-0.007934</td>\n",
       "      <td>0.000890</td>\n",
       "      <td>-0.007072</td>\n",
       "      <td>52.250752</td>\n",
       "      <td>156.388574</td>\n",
       "      <td>57</td>\n",
       "      <td>/srv/scratch/z3533156/26year_BRAN2020/outer_av...</td>\n",
       "    </tr>\n",
       "    <tr>\n",
       "      <th>2</th>\n",
       "      <td>1</td>\n",
       "      <td>1464</td>\n",
       "      <td>CE</td>\n",
       "      <td>157.097940</td>\n",
       "      <td>-28.381485</td>\n",
       "      <td>181</td>\n",
       "      <td>276</td>\n",
       "      <td>515.130000</td>\n",
       "      <td>1365.650728</td>\n",
       "      <td>-0.000028</td>\n",
       "      <td>-0.006920</td>\n",
       "      <td>0.001050</td>\n",
       "      <td>-0.006852</td>\n",
       "      <td>67.000485</td>\n",
       "      <td>56.418837</td>\n",
       "      <td>57</td>\n",
       "      <td>/srv/scratch/z3533156/26year_BRAN2020/outer_av...</td>\n",
       "    </tr>\n",
       "    <tr>\n",
       "      <th>3</th>\n",
       "      <td>1</td>\n",
       "      <td>1465</td>\n",
       "      <td>CE</td>\n",
       "      <td>157.094334</td>\n",
       "      <td>-28.315658</td>\n",
       "      <td>181</td>\n",
       "      <td>278</td>\n",
       "      <td>512.570772</td>\n",
       "      <td>1372.426342</td>\n",
       "      <td>-0.000033</td>\n",
       "      <td>-0.006959</td>\n",
       "      <td>0.002144</td>\n",
       "      <td>-0.009312</td>\n",
       "      <td>52.001786</td>\n",
       "      <td>31.355771</td>\n",
       "      <td>57</td>\n",
       "      <td>/srv/scratch/z3533156/26year_BRAN2020/outer_av...</td>\n",
       "    </tr>\n",
       "    <tr>\n",
       "      <th>4</th>\n",
       "      <td>1</td>\n",
       "      <td>1466</td>\n",
       "      <td>CE</td>\n",
       "      <td>157.106324</td>\n",
       "      <td>-28.346479</td>\n",
       "      <td>181</td>\n",
       "      <td>277</td>\n",
       "      <td>514.728351</td>\n",
       "      <td>1369.599726</td>\n",
       "      <td>-0.000029</td>\n",
       "      <td>-0.005883</td>\n",
       "      <td>0.001179</td>\n",
       "      <td>-0.008429</td>\n",
       "      <td>56.251116</td>\n",
       "      <td>29.524244</td>\n",
       "      <td>57</td>\n",
       "      <td>/srv/scratch/z3533156/26year_BRAN2020/outer_av...</td>\n",
       "    </tr>\n",
       "    <tr>\n",
       "      <th>...</th>\n",
       "      <td>...</td>\n",
       "      <td>...</td>\n",
       "      <td>...</td>\n",
       "      <td>...</td>\n",
       "      <td>...</td>\n",
       "      <td>...</td>\n",
       "      <td>...</td>\n",
       "      <td>...</td>\n",
       "      <td>...</td>\n",
       "      <td>...</td>\n",
       "      <td>...</td>\n",
       "      <td>...</td>\n",
       "      <td>...</td>\n",
       "      <td>...</td>\n",
       "      <td>...</td>\n",
       "      <td>...</td>\n",
       "      <td>...</td>\n",
       "    </tr>\n",
       "    <tr>\n",
       "      <th>117257</th>\n",
       "      <td>2975</td>\n",
       "      <td>10646</td>\n",
       "      <td>AE</td>\n",
       "      <td>157.825620</td>\n",
       "      <td>-37.030656</td>\n",
       "      <td>248</td>\n",
       "      <td>97</td>\n",
       "      <td>850.502045</td>\n",
       "      <td>476.447416</td>\n",
       "      <td>0.000013</td>\n",
       "      <td>0.002921</td>\n",
       "      <td>0.000642</td>\n",
       "      <td>0.003759</td>\n",
       "      <td>72.751791</td>\n",
       "      <td>-76.302293</td>\n",
       "      <td>24</td>\n",
       "      <td>/srv/scratch/z3533156/26year_BRAN2020/outer_av...</td>\n",
       "    </tr>\n",
       "    <tr>\n",
       "      <th>117258</th>\n",
       "      <td>2975</td>\n",
       "      <td>10647</td>\n",
       "      <td>AE</td>\n",
       "      <td>157.880796</td>\n",
       "      <td>-36.972725</td>\n",
       "      <td>249</td>\n",
       "      <td>98</td>\n",
       "      <td>853.608024</td>\n",
       "      <td>484.316677</td>\n",
       "      <td>0.000014</td>\n",
       "      <td>0.002819</td>\n",
       "      <td>0.000983</td>\n",
       "      <td>0.003948</td>\n",
       "      <td>74.250924</td>\n",
       "      <td>-47.064730</td>\n",
       "      <td>24</td>\n",
       "      <td>/srv/scratch/z3533156/26year_BRAN2020/outer_av...</td>\n",
       "    </tr>\n",
       "    <tr>\n",
       "      <th>117259</th>\n",
       "      <td>2975</td>\n",
       "      <td>10648</td>\n",
       "      <td>AE</td>\n",
       "      <td>157.868516</td>\n",
       "      <td>-36.874363</td>\n",
       "      <td>248</td>\n",
       "      <td>100</td>\n",
       "      <td>849.759258</td>\n",
       "      <td>494.400614</td>\n",
       "      <td>0.000014</td>\n",
       "      <td>0.002968</td>\n",
       "      <td>0.000566</td>\n",
       "      <td>0.003910</td>\n",
       "      <td>75.750780</td>\n",
       "      <td>-79.414689</td>\n",
       "      <td>24</td>\n",
       "      <td>/srv/scratch/z3533156/26year_BRAN2020/outer_av...</td>\n",
       "    </tr>\n",
       "    <tr>\n",
       "      <th>117260</th>\n",
       "      <td>2975</td>\n",
       "      <td>10649</td>\n",
       "      <td>AE</td>\n",
       "      <td>157.753058</td>\n",
       "      <td>-36.882303</td>\n",
       "      <td>246</td>\n",
       "      <td>99</td>\n",
       "      <td>840.037603</td>\n",
       "      <td>489.981707</td>\n",
       "      <td>0.000013</td>\n",
       "      <td>0.002804</td>\n",
       "      <td>0.000722</td>\n",
       "      <td>0.003863</td>\n",
       "      <td>76.000006</td>\n",
       "      <td>-92.084211</td>\n",
       "      <td>24</td>\n",
       "      <td>/srv/scratch/z3533156/26year_BRAN2020/outer_av...</td>\n",
       "    </tr>\n",
       "    <tr>\n",
       "      <th>117261</th>\n",
       "      <td>2975</td>\n",
       "      <td>10650</td>\n",
       "      <td>AE</td>\n",
       "      <td>157.863435</td>\n",
       "      <td>-36.962331</td>\n",
       "      <td>248</td>\n",
       "      <td>98</td>\n",
       "      <td>851.818768</td>\n",
       "      <td>484.885460</td>\n",
       "      <td>0.000014</td>\n",
       "      <td>0.003065</td>\n",
       "      <td>0.000743</td>\n",
       "      <td>0.003881</td>\n",
       "      <td>69.000188</td>\n",
       "      <td>-62.010152</td>\n",
       "      <td>24</td>\n",
       "      <td>/srv/scratch/z3533156/26year_BRAN2020/outer_av...</td>\n",
       "    </tr>\n",
       "  </tbody>\n",
       "</table>\n",
       "<p>117262 rows × 17 columns</p>\n",
       "</div>"
      ],
      "text/plain": [
       "        Eddy    Day Cyc         Lon        Lat   ic   jc          xc  \\\n",
       "0          1   1462  CE  156.969773 -28.461100  179  274  505.897600   \n",
       "1          1   1463  CE  156.993096 -28.433992  179  275  507.149717   \n",
       "2          1   1464  CE  157.097940 -28.381485  181  276  515.130000   \n",
       "3          1   1465  CE  157.094334 -28.315658  181  278  512.570772   \n",
       "4          1   1466  CE  157.106324 -28.346479  181  277  514.728351   \n",
       "...      ...    ...  ..         ...        ...  ...  ...         ...   \n",
       "117257  2975  10646  AE  157.825620 -37.030656  248   97  850.502045   \n",
       "117258  2975  10647  AE  157.880796 -36.972725  249   98  853.608024   \n",
       "117259  2975  10648  AE  157.868516 -36.874363  248  100  849.759258   \n",
       "117260  2975  10649  AE  157.753058 -36.882303  246   99  840.037603   \n",
       "117261  2975  10650  AE  157.863435 -36.962331  248   98  851.818768   \n",
       "\n",
       "                 yc         w       Q11       Q12       Q22         Rc  \\\n",
       "0       1353.012251 -0.000033 -0.008769  0.001546 -0.007521  69.500036   \n",
       "1       1356.633687 -0.000030 -0.007934  0.000890 -0.007072  52.250752   \n",
       "2       1365.650728 -0.000028 -0.006920  0.001050 -0.006852  67.000485   \n",
       "3       1372.426342 -0.000033 -0.006959  0.002144 -0.009312  52.001786   \n",
       "4       1369.599726 -0.000029 -0.005883  0.001179 -0.008429  56.251116   \n",
       "...             ...       ...       ...       ...       ...        ...   \n",
       "117257   476.447416  0.000013  0.002921  0.000642  0.003759  72.751791   \n",
       "117258   484.316677  0.000014  0.002819  0.000983  0.003948  74.250924   \n",
       "117259   494.400614  0.000014  0.002968  0.000566  0.003910  75.750780   \n",
       "117260   489.981707  0.000013  0.002804  0.000722  0.003863  76.000006   \n",
       "117261   484.885460  0.000014  0.003065  0.000743  0.003881  69.000188   \n",
       "\n",
       "              psi0  Age                                              fname  \n",
       "0        70.832145   57  /srv/scratch/z3533156/26year_BRAN2020/outer_av...  \n",
       "1       156.388574   57  /srv/scratch/z3533156/26year_BRAN2020/outer_av...  \n",
       "2        56.418837   57  /srv/scratch/z3533156/26year_BRAN2020/outer_av...  \n",
       "3        31.355771   57  /srv/scratch/z3533156/26year_BRAN2020/outer_av...  \n",
       "4        29.524244   57  /srv/scratch/z3533156/26year_BRAN2020/outer_av...  \n",
       "...            ...  ...                                                ...  \n",
       "117257  -76.302293   24  /srv/scratch/z3533156/26year_BRAN2020/outer_av...  \n",
       "117258  -47.064730   24  /srv/scratch/z3533156/26year_BRAN2020/outer_av...  \n",
       "117259  -79.414689   24  /srv/scratch/z3533156/26year_BRAN2020/outer_av...  \n",
       "117260  -92.084211   24  /srv/scratch/z3533156/26year_BRAN2020/outer_av...  \n",
       "117261  -62.010152   24  /srv/scratch/z3533156/26year_BRAN2020/outer_av...  \n",
       "\n",
       "[117262 rows x 17 columns]"
      ]
     },
     "execution_count": 1,
     "metadata": {},
     "output_type": "execute_result"
    }
   ],
   "source": [
    "import numpy as np\n",
    "import pandas as pd\n",
    "import matplotlib.pyplot as plt\n",
    "import pickle\n",
    "\n",
    "import sys\n",
    "sys.path.append(\"/home/z5297792/UNSW-MRes/MRes/modules\") \n",
    "from utils import dopioe, rossby_number, calc_tang_vel, find_directional_radii\n",
    "\n",
    "df_eddies = pd.read_pickle(f'/srv/scratch/z5297792/Chapter2/SEACOFS_26yr_Eddy_Dataset/df_eddies_processed_1462_10650.pkl')\n",
    "df_eddies\n"
   ]
  },
  {
   "cell_type": "code",
   "execution_count": 2,
   "id": "e242b52d-6893-4456-8c08-e009bb2a9535",
   "metadata": {},
   "outputs": [],
   "source": [
    "import netCDF4 as nc\n",
    "from scipy.interpolate import griddata\n",
    "import netCDF4 as nc\n",
    "from scipy.interpolate import RegularGridInterpolator\n",
    "import time\n",
    "\n",
    "# Field Data\n",
    "\n",
    "fname = f'/srv/scratch/z3533156/26year_BRAN2020/outer_avg_01461.nc'\n",
    "\n",
    "dataset = nc.Dataset(fname)\n",
    "\n",
    "lon_rho = np.transpose(dataset.variables['lon_rho'], axes=(1, 0))\n",
    "lat_rho = np.transpose(dataset.variables['lat_rho'], axes=(1, 0))\n",
    "mask_rho = np.transpose(dataset.variables['mask_rho'], axes=(1, 0))\n",
    "h =  np.transpose(dataset.variables['h'], axes=(1, 0))\n",
    "angle = dataset.variables['angle'][0, 0]\n",
    "z_r = np.load('/srv/scratch/z5297792/z_r.npy')\n",
    "z_r = np.transpose(z_r, (1, 2, 0))[150, 150, :]\n",
    "\n",
    "def distance(lat1, lon1, lat2, lon2):\n",
    "    EARTH_RADIUS = 6357\n",
    "    lat1, lon1, lat2, lon2 = map(np.radians, [lat1, lon1, lat2, lon2])\n",
    "    dlat, dlon = lat2 - lat1, lon2 - lon1\n",
    "    a = np.sin(dlat/2)**2 + np.cos(lat1)*np.cos(lat2)*np.sin(dlon/2)**2\n",
    "    return EARTH_RADIUS * 2 * np.arctan2(np.sqrt(a), np.sqrt(1 - a))\n",
    "\n",
    "j_mid = lon_rho.shape[1] // 2\n",
    "i_mid = lon_rho.shape[0] // 2\n",
    "\n",
    "dx = distance(lat_rho[:-1, j_mid], lon_rho[:-1, j_mid],\n",
    "              lat_rho[1:, j_mid], lon_rho[1:, j_mid])\n",
    "dy = distance(lat_rho[i_mid, :-1], lon_rho[i_mid, :-1],\n",
    "              lat_rho[i_mid, 1:], lon_rho[i_mid, 1:])\n",
    "\n",
    "x_grid = np.insert(np.cumsum(dx), 0, 0)\n",
    "y_grid = np.insert(np.cumsum(dy), 0, 0)\n",
    "X_grid, Y_grid = np.meshgrid(x_grid, y_grid, indexing='ij')\n"
   ]
  },
  {
   "cell_type": "code",
   "execution_count": 3,
   "id": "2c915413-59a8-4c69-8e12-3607e5a73e66",
   "metadata": {},
   "outputs": [],
   "source": [
    "def compute_vert_data(df_eddies, eddy, X, Y, z_r, r=30):\n",
    "\n",
    "    df = df_eddies[df_eddies.Eddy == eddy].copy()\n",
    "    dic_data = {f'Eddy{eddy}': {}}\n",
    "    fnumber_old = None\n",
    "    x, y = X[:,0], Y[0,:]\n",
    "    timer = 0\n",
    "\n",
    "    # DOPIOE wont work if too close to boundary\n",
    "    dx = np.max(np.diff(x))  # spacing in x-direction\n",
    "    dy = np.max(np.diff(y))  # spacing in y-direction\n",
    "    cell_size = np.max([dx, dy])        # max cell size in Euclidean units\n",
    "    margin = int(np.ceil(r / cell_size))    \n",
    "\n",
    "    for t, data in df.iterrows():\n",
    "        day, fname, xc_surf, yc_surf, w_surf = data['Day'], data['fname'], data['xc'], data['yc'], data['w']\n",
    "        fnumber = fname[-8:-3]\n",
    "\n",
    "        # Only load if file changes\n",
    "        if fnumber != fnumber_old:\n",
    "            u_raw = np.load(f'/srv/scratch/z5297792/Climatology/u_v/u_{fnumber}.npy')\n",
    "            v_raw = np.load(f'/srv/scratch/z5297792/Climatology/u_v/v_{fnumber}.npy')\n",
    "            u_raw = np.where(np.abs(u_raw) > 1e30, np.nan, u_raw).astype(float)\n",
    "            v_raw = np.where(np.abs(v_raw) > 1e30, np.nan, v_raw).astype(float)\n",
    "            with nc.Dataset(fname) as dataset:\n",
    "                ocean_time = dataset.variables['ocean_time'][:].data / 86400\n",
    "            fnumber_old = fnumber\n",
    "        t_rel = np.where(ocean_time == day)[0][0]\n",
    "\n",
    "        u_t, v_t = u_raw[:, :, :, t_rel], v_raw[:, :, :, t_rel]\n",
    "\n",
    "        df_data = []\n",
    "        xc, yc = xc_surf, yc_surf\n",
    "        xc_old, yc_old = xc_surf, yc_surf\n",
    "\n",
    "        # for k in range(24):\n",
    "        for k in range(u_t.shape[-1]):\n",
    "            u, v = u_t[:, :, k], v_t[:, :, k]\n",
    "\n",
    "            R_grid = np.hypot(xc - X, yc - Y)\n",
    "            ic, jc = map(int, np.unravel_index(np.argmin(R_grid), R_grid.shape))\n",
    "            \n",
    "            if (ic < margin or ic >= X.shape[0] - margin or\n",
    "                jc < margin or jc >= X.shape[1] - margin):\n",
    "                break\n",
    "\n",
    "            # horizontal transect (constant y = y[jc])\n",
    "            x_mask = np.abs(x - xc) <= r\n",
    "            x1 = x[x_mask]\n",
    "            y1 = np.full_like(x1, y[jc])\n",
    "            u1 = u[x_mask, jc]\n",
    "            v1 = v[x_mask, jc]\n",
    "        \n",
    "            # vertical transect (constant x = x[ic])\n",
    "            y_mask = np.abs(y - yc) <= r\n",
    "            y2 = y[y_mask]\n",
    "            x2 = np.full_like(y2, x[ic])\n",
    "            u2 = u[ic, y_mask]\n",
    "            v2 = v[ic, y_mask]\n",
    "\n",
    "            xc, yc, w, Q, _, psi0, _ = dopioe(x1, y1, u1, v1, x2, y2, u2, v2)\n",
    "\n",
    "            if (np.sign(w) != np.sign(w_surf)) or (np.hypot(xc_old - xc, yc_old - yc) > 50):\n",
    "                break\n",
    "            \n",
    "            xc_old, yc_old = xc, yc\n",
    "\n",
    "            w *= 1e-3 # to s^-1\n",
    "            # Ro = rossby_number(w, yc)\n",
    "\n",
    "            radii = find_directional_radii(u, v, X, Y, xc, yc, calc_tang_vel)\n",
    "            Rc = np.mean([radii['up'], radii['right'], radii['down'], radii['left']])\n",
    "\n",
    "            df_data.append({\n",
    "                'x': xc, 'y': yc, 'Q': Q, 'w': w,\n",
    "                'Rc': Rc, 'psi0': psi0,\n",
    "                'z': k, 'Depth': z_r[k]\n",
    "            })\n",
    "\n",
    "        if df_data:\n",
    "            df_data = pd.DataFrame(df_data)\n",
    "            dx = df_data['x'].diff()\n",
    "            dy = df_data['y'].diff()\n",
    "            df_data['TD'] = np.hypot(df_data['x'] - df_data.iloc[0]['x'],\n",
    "                                  df_data['y'] - df_data.iloc[0]['y'])\n",
    "            dic_data[f'Eddy{eddy}'][f'Day{day}'] = df_data\n",
    "        else:\n",
    "            dic_data[f'Eddy{eddy}'][f'Day{day}'] = pd.DataFrame(columns=['x', 'y', 'Q', 'w', 'Rc', 'psi0', 'z','Depth'])\n",
    "\n",
    "        # if timer % 10 == 0:\n",
    "        #     print(f'{timer / len(df) * 100:.1f}%')\n",
    "        #     timer += 1\n",
    "        \n",
    "    return dic_data\n",
    "    "
   ]
  },
  {
   "cell_type": "code",
   "execution_count": 4,
   "id": "47f915ec-e768-43fb-ada5-a20901c5db55",
   "metadata": {},
   "outputs": [
    {
     "name": "stdout",
     "output_type": "stream",
     "text": [
      "2611/2975\n",
      "2621/2975\n"
     ]
    },
    {
     "name": "stderr",
     "output_type": "stream",
     "text": [
      "/home/z5297792/UNSW-MRes/MRes/modules/utils.py:388: RuntimeWarning: overflow encountered in square\n",
      "  s = np.sum((ui - u_pred)**2 + (vi - v_pred)**2)\n"
     ]
    },
    {
     "name": "stdout",
     "output_type": "stream",
     "text": [
      "2631/2975\n"
     ]
    },
    {
     "name": "stderr",
     "output_type": "stream",
     "text": [
      "/home/z5297792/UNSW-MRes/MRes/modules/utils.py:388: RuntimeWarning: overflow encountered in square\n",
      "  s = np.sum((ui - u_pred)**2 + (vi - v_pred)**2)\n"
     ]
    },
    {
     "name": "stdout",
     "output_type": "stream",
     "text": [
      "2641/2975\n",
      "2651/2975\n",
      "2661/2975\n"
     ]
    },
    {
     "name": "stderr",
     "output_type": "stream",
     "text": [
      "/home/z5297792/UNSW-MRes/MRes/modules/utils.py:388: RuntimeWarning: overflow encountered in square\n",
      "  s = np.sum((ui - u_pred)**2 + (vi - v_pred)**2)\n"
     ]
    },
    {
     "name": "stdout",
     "output_type": "stream",
     "text": [
      "2671/2975\n"
     ]
    },
    {
     "name": "stderr",
     "output_type": "stream",
     "text": [
      "/home/z5297792/UNSW-MRes/MRes/modules/utils.py:388: RuntimeWarning: overflow encountered in square\n",
      "  s = np.sum((ui - u_pred)**2 + (vi - v_pred)**2)\n",
      "/home/z5297792/UNSW-MRes/MRes/modules/utils.py:388: RuntimeWarning: overflow encountered in square\n",
      "  s = np.sum((ui - u_pred)**2 + (vi - v_pred)**2)\n",
      "/home/z5297792/.local/lib/python3.10/site-packages/scipy/optimize/_optimize.py:2291: RuntimeWarning: overflow encountered in scalar multiply\n",
      "  p = (xf - fulc) * q - (xf - nfc) * r\n",
      "/home/z5297792/.local/lib/python3.10/site-packages/scipy/optimize/_optimize.py:2291: RuntimeWarning: invalid value encountered in scalar subtract\n",
      "  p = (xf - fulc) * q - (xf - nfc) * r\n",
      "/home/z5297792/.local/lib/python3.10/site-packages/scipy/optimize/_optimize.py:2300: RuntimeWarning: overflow encountered in scalar multiply\n",
      "  if ((np.abs(p) < np.abs(0.5*q*r)) and (p > q*(a - xf)) and\n",
      "/home/z5297792/UNSW-MRes/MRes/modules/utils.py:386: RuntimeWarning: overflow encountered in multiply\n",
      "  u_pred = -beta * E\n",
      "/home/z5297792/UNSW-MRes/MRes/modules/utils.py:387: RuntimeWarning: overflow encountered in multiply\n",
      "  v_pred =  alpha * E\n"
     ]
    },
    {
     "name": "stdout",
     "output_type": "stream",
     "text": [
      "2681/2975\n"
     ]
    },
    {
     "name": "stderr",
     "output_type": "stream",
     "text": [
      "/home/z5297792/UNSW-MRes/MRes/modules/utils.py:387: RuntimeWarning: overflow encountered in multiply\n",
      "  v_pred =  alpha * E\n",
      "/home/z5297792/UNSW-MRes/MRes/modules/utils.py:388: RuntimeWarning: overflow encountered in square\n",
      "  s = np.sum((ui - u_pred)**2 + (vi - v_pred)**2)\n"
     ]
    },
    {
     "name": "stdout",
     "output_type": "stream",
     "text": [
      "2691/2975\n",
      "2701/2975\n"
     ]
    },
    {
     "name": "stderr",
     "output_type": "stream",
     "text": [
      "/home/z5297792/UNSW-MRes/MRes/modules/utils.py:388: RuntimeWarning: overflow encountered in square\n",
      "  s = np.sum((ui - u_pred)**2 + (vi - v_pred)**2)\n",
      "/home/z5297792/.local/lib/python3.10/site-packages/scipy/optimize/_optimize.py:2291: RuntimeWarning: overflow encountered in scalar multiply\n",
      "  p = (xf - fulc) * q - (xf - nfc) * r\n",
      "/home/z5297792/.local/lib/python3.10/site-packages/scipy/optimize/_optimize.py:2291: RuntimeWarning: invalid value encountered in scalar subtract\n",
      "  p = (xf - fulc) * q - (xf - nfc) * r\n",
      "/home/z5297792/.local/lib/python3.10/site-packages/scipy/optimize/_optimize.py:2300: RuntimeWarning: overflow encountered in scalar multiply\n",
      "  if ((np.abs(p) < np.abs(0.5*q*r)) and (p > q*(a - xf)) and\n"
     ]
    },
    {
     "name": "stdout",
     "output_type": "stream",
     "text": [
      "2711/2975\n"
     ]
    },
    {
     "name": "stderr",
     "output_type": "stream",
     "text": [
      "/home/z5297792/UNSW-MRes/MRes/modules/utils.py:388: RuntimeWarning: overflow encountered in square\n",
      "  s = np.sum((ui - u_pred)**2 + (vi - v_pred)**2)\n"
     ]
    },
    {
     "name": "stdout",
     "output_type": "stream",
     "text": [
      "2721/2975\n",
      "2731/2975\n",
      "2741/2975\n",
      "2751/2975\n"
     ]
    },
    {
     "name": "stderr",
     "output_type": "stream",
     "text": [
      "/home/z5297792/UNSW-MRes/MRes/modules/utils.py:388: RuntimeWarning: overflow encountered in square\n",
      "  s = np.sum((ui - u_pred)**2 + (vi - v_pred)**2)\n"
     ]
    },
    {
     "name": "stdout",
     "output_type": "stream",
     "text": [
      "2761/2975\n"
     ]
    },
    {
     "name": "stderr",
     "output_type": "stream",
     "text": [
      "/home/z5297792/UNSW-MRes/MRes/modules/utils.py:386: RuntimeWarning: overflow encountered in multiply\n",
      "  u_pred = -beta * E\n",
      "/home/z5297792/UNSW-MRes/MRes/modules/utils.py:387: RuntimeWarning: overflow encountered in multiply\n",
      "  v_pred =  alpha * E\n",
      "/home/z5297792/UNSW-MRes/MRes/modules/utils.py:388: RuntimeWarning: overflow encountered in square\n",
      "  s = np.sum((ui - u_pred)**2 + (vi - v_pred)**2)\n",
      "/home/z5297792/UNSW-MRes/MRes/modules/utils.py:387: RuntimeWarning: overflow encountered in multiply\n",
      "  v_pred =  alpha * E\n",
      "/home/z5297792/UNSW-MRes/MRes/modules/utils.py:388: RuntimeWarning: overflow encountered in square\n",
      "  s = np.sum((ui - u_pred)**2 + (vi - v_pred)**2)\n"
     ]
    },
    {
     "name": "stdout",
     "output_type": "stream",
     "text": [
      "2771/2975\n"
     ]
    },
    {
     "name": "stderr",
     "output_type": "stream",
     "text": [
      "/home/z5297792/UNSW-MRes/MRes/modules/utils.py:386: RuntimeWarning: overflow encountered in multiply\n",
      "  u_pred = -beta * E\n",
      "/home/z5297792/UNSW-MRes/MRes/modules/utils.py:387: RuntimeWarning: overflow encountered in multiply\n",
      "  v_pred =  alpha * E\n"
     ]
    },
    {
     "name": "stdout",
     "output_type": "stream",
     "text": [
      "2781/2975\n"
     ]
    },
    {
     "name": "stderr",
     "output_type": "stream",
     "text": [
      "/home/z5297792/UNSW-MRes/MRes/modules/utils.py:388: RuntimeWarning: overflow encountered in square\n",
      "  s = np.sum((ui - u_pred)**2 + (vi - v_pred)**2)\n",
      "/home/z5297792/UNSW-MRes/MRes/modules/utils.py:386: RuntimeWarning: overflow encountered in multiply\n",
      "  u_pred = -beta * E\n",
      "/home/z5297792/UNSW-MRes/MRes/modules/utils.py:388: RuntimeWarning: overflow encountered in square\n",
      "  s = np.sum((ui - u_pred)**2 + (vi - v_pred)**2)\n"
     ]
    },
    {
     "name": "stdout",
     "output_type": "stream",
     "text": [
      "2791/2975\n",
      "2801/2975\n",
      "2811/2975\n",
      "2821/2975\n"
     ]
    },
    {
     "name": "stderr",
     "output_type": "stream",
     "text": [
      "/home/z5297792/UNSW-MRes/MRes/modules/utils.py:388: RuntimeWarning: overflow encountered in square\n",
      "  s = np.sum((ui - u_pred)**2 + (vi - v_pred)**2)\n",
      "/home/z5297792/.local/lib/python3.10/site-packages/scipy/optimize/_optimize.py:2291: RuntimeWarning: overflow encountered in scalar multiply\n",
      "  p = (xf - fulc) * q - (xf - nfc) * r\n",
      "/home/z5297792/.local/lib/python3.10/site-packages/scipy/optimize/_optimize.py:2291: RuntimeWarning: invalid value encountered in scalar subtract\n",
      "  p = (xf - fulc) * q - (xf - nfc) * r\n",
      "/home/z5297792/.local/lib/python3.10/site-packages/scipy/optimize/_optimize.py:2300: RuntimeWarning: overflow encountered in scalar multiply\n",
      "  if ((np.abs(p) < np.abs(0.5*q*r)) and (p > q*(a - xf)) and\n"
     ]
    },
    {
     "name": "stdout",
     "output_type": "stream",
     "text": [
      "2831/2975\n",
      "2841/2975\n"
     ]
    },
    {
     "name": "stderr",
     "output_type": "stream",
     "text": [
      "/home/z5297792/UNSW-MRes/MRes/modules/utils.py:388: RuntimeWarning: overflow encountered in square\n",
      "  s = np.sum((ui - u_pred)**2 + (vi - v_pred)**2)\n"
     ]
    },
    {
     "name": "stdout",
     "output_type": "stream",
     "text": [
      "2851/2975\n",
      "2861/2975\n",
      "2871/2975\n",
      "2881/2975\n"
     ]
    },
    {
     "name": "stderr",
     "output_type": "stream",
     "text": [
      "/home/z5297792/UNSW-MRes/MRes/modules/utils.py:386: RuntimeWarning: overflow encountered in multiply\n",
      "  u_pred = -beta * E\n",
      "/home/z5297792/UNSW-MRes/MRes/modules/utils.py:388: RuntimeWarning: overflow encountered in square\n",
      "  s = np.sum((ui - u_pred)**2 + (vi - v_pred)**2)\n",
      "/home/z5297792/UNSW-MRes/MRes/modules/utils.py:388: RuntimeWarning: overflow encountered in square\n",
      "  s = np.sum((ui - u_pred)**2 + (vi - v_pred)**2)\n"
     ]
    },
    {
     "name": "stdout",
     "output_type": "stream",
     "text": [
      "2891/2975\n"
     ]
    },
    {
     "name": "stderr",
     "output_type": "stream",
     "text": [
      "/home/z5297792/UNSW-MRes/MRes/modules/utils.py:386: RuntimeWarning: overflow encountered in multiply\n",
      "  u_pred = -beta * E\n",
      "/home/z5297792/UNSW-MRes/MRes/modules/utils.py:388: RuntimeWarning: overflow encountered in square\n",
      "  s = np.sum((ui - u_pred)**2 + (vi - v_pred)**2)\n"
     ]
    },
    {
     "name": "stdout",
     "output_type": "stream",
     "text": [
      "2901/2975\n",
      "2911/2975\n"
     ]
    },
    {
     "name": "stderr",
     "output_type": "stream",
     "text": [
      "/home/z5297792/UNSW-MRes/MRes/modules/utils.py:388: RuntimeWarning: overflow encountered in square\n",
      "  s = np.sum((ui - u_pred)**2 + (vi - v_pred)**2)\n",
      "/home/z5297792/.local/lib/python3.10/site-packages/scipy/optimize/_optimize.py:2291: RuntimeWarning: overflow encountered in scalar multiply\n",
      "  p = (xf - fulc) * q - (xf - nfc) * r\n",
      "/home/z5297792/.local/lib/python3.10/site-packages/scipy/optimize/_optimize.py:2291: RuntimeWarning: invalid value encountered in scalar subtract\n",
      "  p = (xf - fulc) * q - (xf - nfc) * r\n",
      "/home/z5297792/.local/lib/python3.10/site-packages/scipy/optimize/_optimize.py:2300: RuntimeWarning: overflow encountered in scalar multiply\n",
      "  if ((np.abs(p) < np.abs(0.5*q*r)) and (p > q*(a - xf)) and\n",
      "/home/z5297792/UNSW-MRes/MRes/modules/utils.py:386: RuntimeWarning: overflow encountered in multiply\n",
      "  u_pred = -beta * E\n",
      "/home/z5297792/UNSW-MRes/MRes/modules/utils.py:388: RuntimeWarning: overflow encountered in square\n",
      "  s = np.sum((ui - u_pred)**2 + (vi - v_pred)**2)\n",
      "/home/z5297792/UNSW-MRes/MRes/modules/utils.py:388: RuntimeWarning: overflow encountered in square\n",
      "  s = np.sum((ui - u_pred)**2 + (vi - v_pred)**2)\n",
      "/home/z5297792/.local/lib/python3.10/site-packages/scipy/optimize/_optimize.py:2291: RuntimeWarning: overflow encountered in scalar multiply\n",
      "  p = (xf - fulc) * q - (xf - nfc) * r\n",
      "/home/z5297792/.local/lib/python3.10/site-packages/scipy/optimize/_optimize.py:2291: RuntimeWarning: invalid value encountered in scalar subtract\n",
      "  p = (xf - fulc) * q - (xf - nfc) * r\n",
      "/home/z5297792/.local/lib/python3.10/site-packages/scipy/optimize/_optimize.py:2300: RuntimeWarning: overflow encountered in scalar multiply\n",
      "  if ((np.abs(p) < np.abs(0.5*q*r)) and (p > q*(a - xf)) and\n"
     ]
    },
    {
     "name": "stdout",
     "output_type": "stream",
     "text": [
      "2921/2975\n",
      "2931/2975\n",
      "2941/2975\n"
     ]
    },
    {
     "name": "stderr",
     "output_type": "stream",
     "text": [
      "/home/z5297792/UNSW-MRes/MRes/modules/utils.py:386: RuntimeWarning: overflow encountered in multiply\n",
      "  u_pred = -beta * E\n",
      "/home/z5297792/UNSW-MRes/MRes/modules/utils.py:387: RuntimeWarning: overflow encountered in multiply\n",
      "  v_pred =  alpha * E\n",
      "/home/z5297792/UNSW-MRes/MRes/modules/utils.py:388: RuntimeWarning: overflow encountered in square\n",
      "  s = np.sum((ui - u_pred)**2 + (vi - v_pred)**2)\n",
      "/home/z5297792/UNSW-MRes/MRes/modules/utils.py:388: RuntimeWarning: overflow encountered in square\n",
      "  s = np.sum((ui - u_pred)**2 + (vi - v_pred)**2)\n"
     ]
    },
    {
     "name": "stdout",
     "output_type": "stream",
     "text": [
      "2951/2975\n"
     ]
    },
    {
     "name": "stderr",
     "output_type": "stream",
     "text": [
      "/home/z5297792/UNSW-MRes/MRes/modules/utils.py:387: RuntimeWarning: overflow encountered in multiply\n",
      "  v_pred =  alpha * E\n",
      "/home/z5297792/UNSW-MRes/MRes/modules/utils.py:388: RuntimeWarning: overflow encountered in square\n",
      "  s = np.sum((ui - u_pred)**2 + (vi - v_pred)**2)\n"
     ]
    },
    {
     "name": "stdout",
     "output_type": "stream",
     "text": [
      "2961/2975\n",
      "2971/2975\n"
     ]
    }
   ],
   "source": [
    "dic_vert_eddies = {}\n",
    "for e, eddy in enumerate(df_eddies.Eddy.unique()):\n",
    "    if eddy >= 2608:\n",
    "        dic = compute_vert_data(df_eddies, eddy, X_grid, Y_grid, z_r)\n",
    "        dic_vert_eddies = dic_vert_eddies | dic \n",
    "    \n",
    "        with open(f\"/srv/scratch/z5297792/Chapter2/SEACOFS_26yr_Eddy_Dataset/Vertical_Eddy_Dataset/dic_vert_eddies_{2608}_{df_eddies.Eddy.max()}.pkl\", \"wb\") as f:\n",
    "            pickle.dump(dic_vert_eddies, f)\n",
    "    \n",
    "        if e % 10 == 0:\n",
    "            print(f'{e+1}/{len(df_eddies.Eddy.unique())}')\n"
   ]
  }
 ],
 "metadata": {
  "kernelspec": {
   "display_name": "Python 3.10.8 (ipykernel)",
   "language": "python",
   "name": "python3"
  },
  "language_info": {
   "codemirror_mode": {
    "name": "ipython",
    "version": 3
   },
   "file_extension": ".py",
   "mimetype": "text/x-python",
   "name": "python",
   "nbconvert_exporter": "python",
   "pygments_lexer": "ipython3",
   "version": "3.10.8"
  }
 },
 "nbformat": 4,
 "nbformat_minor": 5
}
