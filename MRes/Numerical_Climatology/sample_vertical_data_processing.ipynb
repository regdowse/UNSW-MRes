{
 "cells": [
  {
   "cell_type": "code",
   "execution_count": 1,
   "id": "db9138b5-7263-47d3-961a-7304222c3365",
   "metadata": {},
   "outputs": [],
   "source": [
    "import numpy as np\n",
    "import pandas as pd\n",
    "import matplotlib.pyplot as plt\n",
    "import pickle\n",
    "\n",
    "import sys\n",
    "sys.path.append(\"/home/z5297792/UNSW-MRes/MRes/modules\") \n",
    "from utils import dopioe, rossby_number, calc_tang_vel, find_directional_radii\n",
    "\n"
   ]
  },
  {
   "cell_type": "code",
   "execution_count": 2,
   "id": "03a8fa06-d18d-406a-8f8b-e739dc6ee993",
   "metadata": {},
   "outputs": [],
   "source": [
    "import netCDF4 as nc\n",
    "from scipy.interpolate import griddata\n",
    "import netCDF4 as nc\n",
    "from scipy.interpolate import RegularGridInterpolator\n",
    "import time\n",
    "\n",
    "# Field Data\n",
    "\n",
    "fname = f'/srv/scratch/z3533156/26year_BRAN2020/outer_avg_01461.nc'\n",
    "\n",
    "dataset = nc.Dataset(fname)\n",
    "\n",
    "lon_rho = np.transpose(dataset.variables['lon_rho'], axes=(1, 0))\n",
    "lat_rho = np.transpose(dataset.variables['lat_rho'], axes=(1, 0))\n",
    "mask_rho = np.transpose(dataset.variables['mask_rho'], axes=(1, 0))\n",
    "h =  np.transpose(dataset.variables['h'], axes=(1, 0))\n",
    "angle = dataset.variables['angle'][0, 0]\n",
    "z_r = np.load('/srv/scratch/z5297792/z_r.npy')\n",
    "z_r = np.transpose(z_r, (1, 2, 0))[150, 150, :]\n",
    "\n",
    "def distance(lat1, lon1, lat2, lon2):\n",
    "    EARTH_RADIUS = 6357\n",
    "    lat1, lon1, lat2, lon2 = map(np.radians, [lat1, lon1, lat2, lon2])\n",
    "    dlat, dlon = lat2 - lat1, lon2 - lon1\n",
    "    a = np.sin(dlat/2)**2 + np.cos(lat1)*np.cos(lat2)*np.sin(dlon/2)**2\n",
    "    return EARTH_RADIUS * 2 * np.arctan2(np.sqrt(a), np.sqrt(1 - a))\n",
    "\n",
    "j_mid = lon_rho.shape[1] // 2\n",
    "i_mid = lon_rho.shape[0] // 2\n",
    "\n",
    "dx = distance(lat_rho[:-1, j_mid], lon_rho[:-1, j_mid],\n",
    "              lat_rho[1:, j_mid], lon_rho[1:, j_mid])\n",
    "dy = distance(lat_rho[i_mid, :-1], lon_rho[i_mid, :-1],\n",
    "              lat_rho[i_mid, 1:], lon_rho[i_mid, 1:])\n",
    "\n",
    "x_grid = np.insert(np.cumsum(dx), 0, 0)\n",
    "y_grid = np.insert(np.cumsum(dy), 0, 0)\n",
    "X_grid, Y_grid = np.meshgrid(x_grid, y_grid, indexing='ij')\n",
    "\n",
    "res = 1  # 1 km resolution\n",
    "x_new = np.arange(0, x_grid[-1], res)\n",
    "y_new = np.arange(0, y_grid[-1], res)\n",
    "X_new, Y_new = np.meshgrid(x_new, y_new, indexing='ij')\n",
    "new_points = np.column_stack((X_new.ravel(), Y_new.ravel()))\n",
    "\n",
    "interp_lon = RegularGridInterpolator((x_grid, y_grid), lon_rho,\n",
    "                                     method='linear', bounds_error=False, fill_value=np.nan)\n",
    "interp_lat = RegularGridInterpolator((x_grid, y_grid), lat_rho,\n",
    "                                     method='linear', bounds_error=False, fill_value=np.nan)\n",
    "\n",
    "lon_new = interp_lon(new_points).reshape(len(x_new), len(y_new))\n",
    "lat_new = interp_lat(new_points).reshape(len(x_new), len(y_new))\n"
   ]
  },
  {
   "cell_type": "code",
   "execution_count": 3,
   "id": "0d4281bc-96a5-4c56-9471-26c9e7075e77",
   "metadata": {},
   "outputs": [],
   "source": [
    "df_eddies = pd.read_pickle('/srv/scratch/z5297792/Clim_data/df_eddies_processed.pkl')\n"
   ]
  },
  {
   "cell_type": "code",
   "execution_count": 4,
   "id": "40eaa5c7-a965-4803-ad03-2e608bf6ed57",
   "metadata": {},
   "outputs": [],
   "source": [
    "sample_eddies = [8, 896, 2504, 2749, 382, 926, 1394, 1967]"
   ]
  },
  {
   "cell_type": "code",
   "execution_count": 5,
   "id": "4c4cb116-17ba-4091-9e01-27aaf989c09d",
   "metadata": {},
   "outputs": [],
   "source": [
    "def compute_vert_data(df_eddies, eddy, X, Y, z_r, r=30):\n",
    "\n",
    "    df = df_eddies[df_eddies['ID'] == eddy].copy()\n",
    "    dic_data = {f'Eddy{eddy}': {}}\n",
    "    fnumber_old = None\n",
    "    x, y = X[:,0], Y[0,:]\n",
    "    timer = 0\n",
    "\n",
    "    # DOPIOE wont work if too close to boundary\n",
    "    x = X[:, 0]\n",
    "    y = Y[0, :]\n",
    "    dx = np.max(np.diff(x))  # spacing in x-direction\n",
    "    dy = np.max(np.diff(y))  # spacing in y-direction\n",
    "    cell_size = np.max([dx, dy])        # average cell size in Euclidean units\n",
    "    margin = int(np.ceil(r / cell_size))  \n",
    "\n",
    "    for t, data in df.iterrows():\n",
    "        day, fname, xc_surf, yc_surf, w_surf = data['Day'], data['fname'], data['x0'], data['y0'], data['w']\n",
    "        fnumber = fname[-8:-3]\n",
    "\n",
    "        # Only load if file changes\n",
    "        if fnumber != fnumber_old:\n",
    "            u_raw = np.load(f'/srv/scratch/z5297792/Climatology/u_v/u_{fnumber}.npy')\n",
    "            v_raw = np.load(f'/srv/scratch/z5297792/Climatology/u_v/v_{fnumber}.npy')\n",
    "            u_raw = np.where(np.abs(u_raw) > 1e30, np.nan, u_raw).astype(float)\n",
    "            v_raw = np.where(np.abs(v_raw) > 1e30, np.nan, v_raw).astype(float)\n",
    "            with nc.Dataset(fname) as dataset:\n",
    "                ocean_time = dataset.variables['ocean_time'][:].data / 86400\n",
    "            fnumber_old = fnumber\n",
    "        t_rel = np.where(ocean_time == day)[0][0]\n",
    "\n",
    "        u_t, v_t = u_raw[:, :, :, t_rel], v_raw[:, :, :, t_rel]\n",
    "\n",
    "        df_data = []\n",
    "        xc, yc = xc_surf, yc_surf\n",
    "        xc_old, yc_old = xc_surf, yc_surf\n",
    "\n",
    "        # for k in range(24):\n",
    "        for k in range(u_t.shape[-1]):\n",
    "            u, v = u_t[:, :, k], v_t[:, :, k]\n",
    "\n",
    "            R_grid = np.hypot(xc - X, yc - Y)\n",
    "            ic, jc = map(int, np.unravel_index(np.argmin(R_grid), R_grid.shape))\n",
    "            \n",
    "            if (ic < margin or ic >= X_grid.shape[0] - margin or\n",
    "                jc < margin or jc >= X_grid.shape[1] - margin):\n",
    "                break\n",
    "\n",
    "            # horizontal transect (constant y = y[jc])\n",
    "            x_mask = np.abs(x - xc) < r\n",
    "            x1 = x[x_mask]\n",
    "            y1 = np.full_like(x1, y[jc])\n",
    "            u1 = u[x_mask, jc]\n",
    "            v1 = v[x_mask, jc]\n",
    "        \n",
    "            # vertical transect (constant x = x[ic])\n",
    "            y_mask = np.abs(y - yc) < r\n",
    "            y2 = y[y_mask]\n",
    "            x2 = np.full_like(y2, x[ic])\n",
    "            u2 = u[ic, y_mask]\n",
    "            v2 = v[ic, y_mask]\n",
    "\n",
    "            xc, yc, w, Q, _, psi0, _ = dopioe(x1, y1, u1, v1, x2, y2, u2, v2)\n",
    "\n",
    "            if (np.sign(w) != np.sign(w_surf)) or (np.hypot(xc_old - xc, yc_old - yc) > 50):\n",
    "                break\n",
    "            else:\n",
    "                xc_old, yc_old = xc, yc\n",
    "\n",
    "            w *= 1e-3 # to s^-1\n",
    "            Ro = rossby_number(w, yc)\n",
    "\n",
    "            radii = find_directional_radii(u, v, X, Y, xc, yc, calc_tang_vel)\n",
    "            Rc = np.mean([radii['up'], radii['right'], radii['down'], radii['left']])\n",
    "\n",
    "            df_data.append({\n",
    "                'x': xc, 'y': yc, 'Q': Q, 'w': w,\n",
    "                'Rc': Rc, 'psi0': psi0, 'Ro': Ro,\n",
    "                'z': k, 'Depth': z_r[k]\n",
    "            })\n",
    "\n",
    "        if df_data:\n",
    "            df_data = pd.DataFrame(df_data)\n",
    "            dx = df_data['x'].diff()\n",
    "            dy = df_data['y'].diff()\n",
    "            df_data['TD'] = np.hypot(df_data['x'] - df_data.iloc[0]['x'],\n",
    "                                  df_data['y'] - df_data.iloc[0]['y'])\n",
    "            dic_data[f'Eddy{eddy}'][f'Day{day}'] = df_data\n",
    "        else:\n",
    "            dic_data[f'Eddy{eddy}'][f'Day{day}'] = pd.DataFrame(columns=['x', 'y', 'Q', 'w', 'Rc', 'psi0', 'Ro', 'z','Depth'])\n",
    "\n",
    "        # if timer % 10 == 0:\n",
    "        #     print(f'{timer / len(df) * 100:.1f}%')\n",
    "        #     timer += 1\n",
    "        \n",
    "    return dic_data\n",
    "    "
   ]
  },
  {
   "cell_type": "code",
   "execution_count": 6,
   "id": "f380bcac-5fae-443f-905b-e6011f827643",
   "metadata": {},
   "outputs": [
    {
     "name": "stderr",
     "output_type": "stream",
     "text": [
      "/home/z5297792/UNSW-MRes/MRes/modules/utils.py:372: RuntimeWarning: overflow encountered in exp\n",
      "  E = np.exp(gamma / psi0)\n",
      "/home/z5297792/UNSW-MRes/MRes/modules/utils.py:375: RuntimeWarning: overflow encountered in square\n",
      "  return np.sum((ui - u_pred)**2 + (vi - v_pred)**2)\n",
      "/home/z5297792/UNSW-MRes/MRes/modules/utils.py:375: RuntimeWarning: overflow encountered in square\n",
      "  return np.sum((ui - u_pred)**2 + (vi - v_pred)**2)\n",
      "/home/z5297792/UNSW-MRes/MRes/modules/utils.py:375: RuntimeWarning: overflow encountered in square\n",
      "  return np.sum((ui - u_pred)**2 + (vi - v_pred)**2)\n",
      "/home/z5297792/UNSW-MRes/MRes/modules/utils.py:375: RuntimeWarning: overflow encountered in square\n",
      "  return np.sum((ui - u_pred)**2 + (vi - v_pred)**2)\n"
     ]
    },
    {
     "name": "stdout",
     "output_type": "stream",
     "text": [
      "1/8\n"
     ]
    },
    {
     "name": "stderr",
     "output_type": "stream",
     "text": [
      "/home/z5297792/UNSW-MRes/MRes/modules/utils.py:375: RuntimeWarning: overflow encountered in square\n",
      "  return np.sum((ui - u_pred)**2 + (vi - v_pred)**2)\n"
     ]
    },
    {
     "name": "stdout",
     "output_type": "stream",
     "text": [
      "2/8\n"
     ]
    },
    {
     "name": "stderr",
     "output_type": "stream",
     "text": [
      "/home/z5297792/UNSW-MRes/MRes/modules/utils.py:375: RuntimeWarning: overflow encountered in square\n",
      "  return np.sum((ui - u_pred)**2 + (vi - v_pred)**2)\n",
      "/home/z5297792/UNSW-MRes/MRes/modules/utils.py:372: RuntimeWarning: overflow encountered in exp\n",
      "  E = np.exp(gamma / psi0)\n"
     ]
    },
    {
     "name": "stdout",
     "output_type": "stream",
     "text": [
      "3/8\n"
     ]
    },
    {
     "name": "stderr",
     "output_type": "stream",
     "text": [
      "/home/z5297792/UNSW-MRes/MRes/modules/utils.py:375: RuntimeWarning: overflow encountered in square\n",
      "  return np.sum((ui - u_pred)**2 + (vi - v_pred)**2)\n",
      "/home/z5297792/UNSW-MRes/MRes/modules/utils.py:375: RuntimeWarning: overflow encountered in square\n",
      "  return np.sum((ui - u_pred)**2 + (vi - v_pred)**2)\n",
      "/home/z5297792/UNSW-MRes/MRes/modules/utils.py:372: RuntimeWarning: overflow encountered in exp\n",
      "  E = np.exp(gamma / psi0)\n"
     ]
    },
    {
     "name": "stdout",
     "output_type": "stream",
     "text": [
      "4/8\n",
      "5/8\n"
     ]
    },
    {
     "name": "stderr",
     "output_type": "stream",
     "text": [
      "/home/z5297792/UNSW-MRes/MRes/modules/utils.py:375: RuntimeWarning: overflow encountered in square\n",
      "  return np.sum((ui - u_pred)**2 + (vi - v_pred)**2)\n"
     ]
    },
    {
     "name": "stdout",
     "output_type": "stream",
     "text": [
      "6/8\n",
      "7/8\n",
      "8/8\n"
     ]
    }
   ],
   "source": [
    "dic_sample = {}\n",
    "for e, eddy in enumerate(sample_eddies):\n",
    "    dic = compute_vert_data(df_eddies, eddy, X_grid, Y_grid, z_r)\n",
    "    dic_sample = dic_sample | dic \n",
    "    print(f'{e+1}/{len(sample_eddies)}')\n",
    "    "
   ]
  },
  {
   "cell_type": "code",
   "execution_count": 8,
   "id": "16ef7d71-1bd5-48ac-bd9f-4580a734aff8",
   "metadata": {},
   "outputs": [],
   "source": [
    "with open('/srv/scratch/z5297792/Clim_data/Sample_Data/dic_sample_vert_info.pkl', 'wb') as f:\n",
    "    pickle.dump(dic_sample, f)\n",
    "    "
   ]
  }
 ],
 "metadata": {
  "kernelspec": {
   "display_name": "Python 3.10.8 (ipykernel)",
   "language": "python",
   "name": "python3"
  },
  "language_info": {
   "codemirror_mode": {
    "name": "ipython",
    "version": 3
   },
   "file_extension": ".py",
   "mimetype": "text/x-python",
   "name": "python",
   "nbconvert_exporter": "python",
   "pygments_lexer": "ipython3",
   "version": "3.10.8"
  }
 },
 "nbformat": 4,
 "nbformat_minor": 5
}
