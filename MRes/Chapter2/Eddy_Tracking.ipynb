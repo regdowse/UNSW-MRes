{
 "cells": [
  {
   "cell_type": "code",
   "execution_count": 4,
   "id": "fd191a7f-a5b0-47fe-9403-bc957878889a",
   "metadata": {},
   "outputs": [],
   "source": [
    "import numpy as np\n",
    "import netCDF4 as nc\n",
    "import matplotlib.pyplot as plt\n",
    "import pandas as pd\n",
    "from scipy.interpolate import griddata\n",
    "import netCDF4 as nc\n",
    "from scipy.interpolate import RegularGridInterpolator\n",
    "import time\n"
   ]
  },
  {
   "cell_type": "code",
   "execution_count": 5,
   "id": "dcc6da51-cc38-4afa-a539-d07947cb11d2",
   "metadata": {},
   "outputs": [],
   "source": [
    "start_day, end_day = 1462, 1826\n",
    "df_data = pd.read_pickle(f\"/srv/scratch/z5297792/Chapter2/df_data_{start_day}_{end_day}.pkl\")\n"
   ]
  },
  {
   "cell_type": "code",
   "execution_count": null,
   "id": "5df2dd10-d21e-4e76-a019-3a14f52f0f79",
   "metadata": {},
   "outputs": [
    {
     "name": "stdout",
     "output_type": "stream",
     "text": [
      "1480\n",
      "1500\n",
      "1520\n",
      "1540\n",
      "1560\n",
      "1580\n",
      "1600\n"
     ]
    }
   ],
   "source": [
    "def tracking(df_data, start_ID, next_num, VORT_WEIGHT=15000, R_THRESH=30):\n",
    "\n",
    "    df_data = df_data.copy()\n",
    "    # Initialize IDs: set first day IDs equal to their Eddy values.\n",
    "    min_day = df_data['Day'].min()\n",
    "    df_data['ID'] = -1\n",
    "    df_data.loc[df_data['Day'] == min_day, 'ID'] = df_data.loc[df_data['Day'] == min_day, 'Eddy']\n",
    "    df_data['ID'] = df_data['ID'].astype('Int64')\n",
    "    next_num = df_data['ID'].max() + 1\n",
    "\n",
    "    R_df = pd.DataFrame(columns=['D_diff', 'W_diff', 'R'])\n",
    "\n",
    "    # Loop through days starting from min_day+1 to max_day.\n",
    "    for day in range(min_day + 1, df_data['Day'].max() + 1):\n",
    "        pres_day = df_data[df_data['Day'] == day].copy()\n",
    "        pres_day = pres_day[~np.isnan(pres_day['x0'])]\n",
    "        for e_pres in pres_day['Eddy'].unique():\n",
    "            pres_eddy = pres_day[pres_day['Eddy'] == e_pres].iloc[0]\n",
    "            assigned = False\n",
    "            # Look back up to 4 days.\n",
    "            for delta in range(1, 5):\n",
    "                candidate_day = day - delta\n",
    "                if candidate_day < 0:\n",
    "                    continue\n",
    "                candidate_prev = df_data[df_data['Day'] == candidate_day].copy()\n",
    "                candidate_prev = candidate_prev[~np.isnan(candidate_prev['x0'])]\n",
    "                for e_prev in candidate_prev['Eddy'].unique():\n",
    "                    prev_eddy = candidate_prev[candidate_prev['Eddy'] == e_prev].iloc[0]\n",
    "                    R = np.sqrt(\n",
    "                        (pres_eddy['x0'] - prev_eddy['x0'])**2 +\n",
    "                        (pres_eddy['y0'] - prev_eddy['y0'])**2 +\n",
    "                        VORT_WEIGHT * (pres_eddy['w'] - prev_eddy['w'])**2    # IF ESPRA DIDNT WORK USE NENCIOLI!!\n",
    "                    )\n",
    "                    D_diff = np.hypot(pres_eddy['x0'] - prev_eddy['x0'], pres_eddy['y0'] - prev_eddy['y0'])\n",
    "                    W_diff = np.abs(pres_eddy['w'] - prev_eddy['w'])\n",
    "                    R_df.loc[len(R_df)] = {'D_diff': D_diff, 'W_diff': W_diff, 'R': R}\n",
    "                    if R < R_THRESH and (pres_eddy['Cyc'] == prev_eddy['Cyc']) and not (pres_day['ID'] == prev_eddy['ID']).any():\n",
    "                        df_data.loc[(df_data['Day'] == day) & (df_data['Eddy'] == e_pres), 'ID'] = prev_eddy['ID']\n",
    "                        assigned = True\n",
    "                        break\n",
    "                if assigned:\n",
    "                    break\n",
    "            if not assigned:\n",
    "                df_data.loc[(df_data['Day'] == day) & (df_data['Eddy'] == e_pres), 'ID'] = next_num\n",
    "                next_num += 1\n",
    "\n",
    "        if day % 20 == 0:\n",
    "            print(day)\n",
    "                \n",
    "    return df_data, R_df\n",
    "\n",
    "tic = time.perf_counter()\n",
    "\n",
    "df_data, R_df = tracking(df_data)\n",
    "\n",
    "toc = time.perf_counter()\n",
    "print(f\"Elapsed time: {toc - tic:.4f} seconds\")"
   ]
  },
  {
   "cell_type": "code",
   "execution_count": null,
   "id": "53992fe4-dfdb-4ad6-9c9d-e778ef72e9cd",
   "metadata": {},
   "outputs": [],
   "source": [
    "df_eddies = df_data[df_data['ID']>=0].copy()\n",
    "col_to_move = 'ID'\n",
    "new_order = [col_to_move] + [col for col in df_eddies.columns if col != col_to_move]\n",
    "df_eddies = df_eddies[new_order]\n",
    "df_eddies = df_eddies.sort_values(by=['ID', 'Day']).drop('Eddy', axis=1)\n",
    "df_eddies = df_eddies[df_eddies.groupby('ID')['ID'].transform('count') >= 21]\n",
    "df_eddies['ID'] = df_eddies['ID'].rank(method='dense').astype(int)\n",
    "df_eddies = df_eddies.reset_index(drop=True)\n",
    "df_eddies"
   ]
  },
  {
   "cell_type": "code",
   "execution_count": null,
   "id": "4e2ddc03-5383-437f-8b78-398af9708337",
   "metadata": {},
   "outputs": [],
   "source": []
  },
  {
   "cell_type": "code",
   "execution_count": null,
   "id": "fd51053b-50c1-4577-a10f-536988023be3",
   "metadata": {},
   "outputs": [],
   "source": [
    "df_eddies.to_pickle(f\"/srv/scratch/z5297792/Chapter2/df_eddies_{start_day}_{end_day}.pkl\")\n",
    "R_df.to_pickle(f\"/srv/scratch/z5297792/Chapter2/R_df{start_day}_{end_day}.pkl\")"
   ]
  }
 ],
 "metadata": {
  "kernelspec": {
   "display_name": "Python 3.10.8 (ipykernel)",
   "language": "python",
   "name": "python3"
  },
  "language_info": {
   "codemirror_mode": {
    "name": "ipython",
    "version": 3
   },
   "file_extension": ".py",
   "mimetype": "text/x-python",
   "name": "python",
   "nbconvert_exporter": "python",
   "pygments_lexer": "ipython3",
   "version": "3.10.8"
  }
 },
 "nbformat": 4,
 "nbformat_minor": 5
}
