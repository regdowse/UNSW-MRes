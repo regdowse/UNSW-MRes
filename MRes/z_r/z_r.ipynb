{
 "cells": [
  {
   "cell_type": "code",
   "execution_count": 5,
   "id": "c980848d-d41b-4d34-b259-6739d9128146",
   "metadata": {},
   "outputs": [],
   "source": [
    "import netCDF4 as nc\n",
    "import numpy as np\n",
    "import pandas as pd\n",
    "import math\n",
    "import matplotlib.pyplot as plt\n",
    "\n",
    "fname = '/srv/scratch/z3533156/26year_BRAN2020/outer_avg_01461.nc'\n",
    "dataset = nc.Dataset(fname)\n",
    "lon_rho  = dataset.variables['lon_rho'][:]\n",
    "# lon_rho = np.transpose(lon_rho, axes=(1, 0))\n",
    "lat_rho  = dataset.variables['lat_rho'][:]\n",
    "# lat_rho = np.transpose(lat_rho, axes=(1, 0))"
   ]
  },
  {
   "cell_type": "code",
   "execution_count": 6,
   "id": "a5b894ee-52d3-4c83-be7b-b240a35109bb",
   "metadata": {},
   "outputs": [
    {
     "ename": "NameError",
     "evalue": "name 'h_c' is not defined",
     "output_type": "error",
     "traceback": [
      "\u001b[0;31m---------------------------------------------------------------------------\u001b[0m",
      "\u001b[0;31mNameError\u001b[0m                                 Traceback (most recent call last)",
      "Cell \u001b[0;32mIn[6], line 8\u001b[0m\n\u001b[1;32m      6\u001b[0m \u001b[38;5;28;01mfor\u001b[39;00m j \u001b[38;5;129;01min\u001b[39;00m \u001b[38;5;28mrange\u001b[39m(tdim):\n\u001b[1;32m      7\u001b[0m     \u001b[38;5;28;01mfor\u001b[39;00m k \u001b[38;5;129;01min\u001b[39;00m \u001b[38;5;28mrange\u001b[39m(zdim):\n\u001b[0;32m----> 8\u001b[0m         S_ \u001b[38;5;241m=\u001b[39m (\u001b[43mh_c\u001b[49m \u001b[38;5;241m*\u001b[39m s_w_v[k] \u001b[38;5;241m+\u001b[39m h \u001b[38;5;241m*\u001b[39m Cs_w[k]) \u001b[38;5;241m/\u001b[39m (h_c \u001b[38;5;241m+\u001b[39m h)\n\u001b[1;32m      9\u001b[0m         depth_w[j, k, :, :] \u001b[38;5;241m=\u001b[39m zeta[j, :, :] \u001b[38;5;241m+\u001b[39m (zeta[j, :, :] \u001b[38;5;241m+\u001b[39m h) \u001b[38;5;241m*\u001b[39m S_\n",
      "\u001b[0;31mNameError\u001b[0m: name 'h_c' is not defined"
     ]
    }
   ],
   "source": [
    "tdim, zdim = 30, 30\n",
    "\n",
    "# Assuming tdim, zdim, lon_rho, h_c, h, s_w_v, Cs_w, and zeta are defined elsewhere in your code\n",
    "depth_w = np.zeros((tdim, zdim, lon_rho.shape[0], lon_rho.shape[1]))\n",
    "\n",
    "for j in range(tdim):\n",
    "    for k in range(zdim):\n",
    "        S_ = (h_c * s_w_v[k] + h * Cs_w[k]) / (h_c + h)\n",
    "        depth_w[j, k, :, :] = zeta[j, :, :] + (zeta[j, :, :] + h) * S_\n"
   ]
  }
 ],
 "metadata": {
  "kernelspec": {
   "display_name": "Python 3.10.8 (ipykernel)",
   "language": "python",
   "name": "python3"
  },
  "language_info": {
   "codemirror_mode": {
    "name": "ipython",
    "version": 3
   },
   "file_extension": ".py",
   "mimetype": "text/x-python",
   "name": "python",
   "nbconvert_exporter": "python",
   "pygments_lexer": "ipython3",
   "version": "3.10.8"
  }
 },
 "nbformat": 4,
 "nbformat_minor": 5
}
