{
 "cells": [
  {
   "cell_type": "code",
   "execution_count": 23,
   "id": "228a1090-fbb6-43ed-a64f-4dbedfabf58a",
   "metadata": {},
   "outputs": [],
   "source": [
    "import pickle\n",
    "with open('ROMS_26yr_COWed_eddies_FIXED_E1_E5000.pkl', 'rb') as file:\n",
    "    dic1 = pickle.load(file)\n",
    "with open('ROMS_26yr_COWed_eddies_FIXED_E5001_E10000.pkl', 'rb') as file:\n",
    "    dic2 = pickle.load(file)\n",
    "with open('ROMS_26yr_COWed_eddies_FIXED_E10001_E14745.pkl', 'rb') as file:\n",
    "    dic3 = pickle.load(file)"
   ]
  },
  {
   "cell_type": "code",
   "execution_count": 24,
   "id": "ab056435-c260-45e0-a71f-a06edfad1537",
   "metadata": {},
   "outputs": [],
   "source": [
    "new_dic = {}\n",
    "\n",
    "# Add keys 'Eddy1' to 'Eddy5000' from dic1\n",
    "for i in range(1, 5001):\n",
    "    key = f'Eddy{i}'\n",
    "    if key in dic1:\n",
    "        new_dic[key] = dic1[key]\n",
    "\n",
    "# Add keys 'Eddy5001' to 'Eddy10000' from dic2\n",
    "for i in range(5001, 10001):\n",
    "    key = f'Eddy{i}'\n",
    "    if key in dic2:\n",
    "        new_dic[key] = dic2[key]\n",
    "\n",
    "for i in range(10001, 14746):\n",
    "    key = f'Eddy{i}'\n",
    "    if key in dic3:\n",
    "        new_dic[key] = dic3[key]\n",
    "\n"
   ]
  },
  {
   "cell_type": "code",
   "execution_count": 26,
   "id": "12b3acb5-f53a-463f-95dc-2beb856e8c7b",
   "metadata": {},
   "outputs": [],
   "source": [
    "with open('/home/z5297792/MRes/Climatology/ROMS_26yr_COWed_eddies.pkl', 'wb') as pickle_file:\n",
    "    pickle.dump(new_dic, pickle_file)"
   ]
  },
  {
   "cell_type": "code",
   "execution_count": null,
   "id": "df47839a-58ea-4024-8c96-7ec41094136b",
   "metadata": {},
   "outputs": [],
   "source": []
  }
 ],
 "metadata": {
  "kernelspec": {
   "display_name": "Python 3.10.8 (ipykernel)",
   "language": "python",
   "name": "python3"
  },
  "language_info": {
   "codemirror_mode": {
    "name": "ipython",
    "version": 3
   },
   "file_extension": ".py",
   "mimetype": "text/x-python",
   "name": "python",
   "nbconvert_exporter": "python",
   "pygments_lexer": "ipython3",
   "version": "3.10.8"
  }
 },
 "nbformat": 4,
 "nbformat_minor": 5
}
