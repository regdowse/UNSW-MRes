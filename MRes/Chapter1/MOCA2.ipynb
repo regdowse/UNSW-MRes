{
 "cells": [
  {
   "cell_type": "code",
   "execution_count": null,
   "id": "d30fcd21-e848-43ac-981f-6509323fe7b2",
   "metadata": {},
   "outputs": [],
   "source": [
    "import numpy as np\n",
    "import matplotlib.pyplot as plt\n",
    "import pandas as pd"
   ]
  },
  {
   "cell_type": "code",
   "execution_count": null,
   "id": "60d3488b-e953-4962-bacd-d8ca415a2ef3",
   "metadata": {},
   "outputs": [],
   "source": [
    "def calculate_eddy(width=500000, L=1e5, f0=None, rho0=1025, a=1., b=1.):\n",
    "    if f0 is None:\n",
    "        f0 = 2 * 7.29E-5 * np.sin(np.radians(-34))\n",
    "    g = 9.81\n",
    "    x = np.linspace(-width // 2, width // 2, 101)\n",
    "    y = np.linspace(-width // 2, width // 2, 101)\n",
    "    x_2d, y_2d = np.meshgrid(x, y, indexing='ij')\n",
    "    \n",
    "    x_c = 0\n",
    "    y_c = 0\n",
    "    r_c = np.hypot((x_2d - x_c) / a, (y_2d - y_c) / b)\n",
    "    \n",
    "    sigma = -2 * np.exp(-r_c**2 / L**2)\n",
    "    dx = x[1] - x[0]\n",
    "    dy = y[1] - y[0]\n",
    "    d_sigma_dx = np.gradient(sigma, axis=0) / dx\n",
    "    d_sigma_dy = np.gradient(sigma, axis=1) / dy\n",
    "    \n",
    "    U = -g / f0 * d_sigma_dy\n",
    "    V = g / f0 * d_sigma_dx\n",
    "    \n",
    "    return U, V, x/1000, y/1000\n",
    "\n",
    "u, v, x, y = calculate_eddy()"
   ]
  },
  {
   "cell_type": "code",
   "execution_count": null,
   "id": "c3257da6-da93-4987-8547-ff076751fb00",
   "metadata": {},
   "outputs": [],
   "source": [
    "def moca2(nic, njc, r, u, v, X, Y):\n",
    "    u1, v1 = u[nic-r:nic+r+1, njc], v[nic-r:nic+r+1, njc]\n",
    "    x1, y1 = X.T[nic-r:nic+r+1, njc], Y.T[nic-r:nic+r+1, njc]\n",
    "    xx = x1 - X.T[nic, njc]\n",
    "\n",
    "    u2, v2 = u[nic, njc-r:njc+r+1], v[nic, njc-r:njc+r+1]\n",
    "    x2, y2 = X.T[nic, njc-r:njc+r+1], Y.T[nic, njc-r:njc+r+1]\n",
    "    yy = y2 - Y.T[nic, njc]\n",
    "\n",
    "    def lin_fit(x, y):\n",
    "        p = np.polyfit(x, y, 1)\n",
    "        y_pred = np.polyval(p, x)\n",
    "        ss_tot, ss_res = np.sum((y - np.mean(y))**2), np.sum((y - y_pred)**2)\n",
    "        r2 = 1.0 if ss_tot == 0 else 1 - ss_res / ss_tot\n",
    "        return p[0], p[1], r2\n",
    "\n",
    "    A1, A0, r2A = lin_fit(xx, u1)\n",
    "    B1, B0, r2B = lin_fit(xx, v1)\n",
    "    C1, C0, r2C = lin_fit(yy, u2)\n",
    "    D1, D0, r2D = lin_fit(yy, v2)\n",
    "\n",
    "    alpha = A0 if r2A < r2B else C0\n",
    "    beta = B0 if r2B < r2D else D0\n",
    "    gamma = A1 if r2A < r2D else -D1\n",
    "    q11, q12, q22 = B1 / 2, -gamma / 2, -C1 / 2\n",
    "\n",
    "\n",
    "    x0 = - ( alpha*gamma + beta*C1  ) / (C1*B1+gamma**2)\n",
    "    y0 = ( beta*gamma-alpha*B1  ) / (C1*B1+gamma**2)\n",
    "    # x0 = (alpha * q12 + beta * q22) / (2 * (q12**2 - q11 * q22))\n",
    "    # y0 = (q11 * alpha + q12 * beta) / (2 * (q11 * q22 - q12**2))\n",
    "    w = 2 * (q11 + q22)\n",
    "\n",
    "    return x0 + X.T[nic, njc], y0 + Y.T[nic, njc], w\n",
    "\n",
    "\n",
    "\n",
    "\n",
    "\n",
    "\n",
    "\n",
    "\n",
    "\n",
    "\n"
   ]
  }
 ],
 "metadata": {
  "kernelspec": {
   "display_name": "Python 3.10.8 (ipykernel)",
   "language": "python",
   "name": "python3"
  },
  "language_info": {
   "codemirror_mode": {
    "name": "ipython",
    "version": 3
   },
   "file_extension": ".py",
   "mimetype": "text/x-python",
   "name": "python",
   "nbconvert_exporter": "python",
   "pygments_lexer": "ipython3",
   "version": "3.10.8"
  }
 },
 "nbformat": 4,
 "nbformat_minor": 5
}
