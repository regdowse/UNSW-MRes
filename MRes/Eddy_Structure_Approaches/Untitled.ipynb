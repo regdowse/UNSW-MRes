{
 "cells": [
  {
   "cell_type": "code",
   "execution_count": 2,
   "id": "ff1c7d08-308b-4cf6-83b9-b01969a59327",
   "metadata": {},
   "outputs": [],
   "source": [
    "import pickle\n",
    "with open('ROMS_26yr_daydic.pkl', 'rb') as file:\n",
    "    daydic = pickle.load(file)\n",
    "\n",
    "with open('ROMS_26yr_eddies.pkl', 'rb') as file:\n",
    "    eddies = pickle.load(file)"
   ]
  },
  {
   "cell_type": "code",
   "execution_count": 4,
   "id": "34398e51-3b55-4dc1-94a4-d5b87ae179e2",
   "metadata": {},
   "outputs": [],
   "source": [
    "import netCDF4 as nc\n",
    "import numpy as np\n",
    "import pandas as pd\n",
    "import math\n",
    "from sklearn.linear_model import LinearRegression\n",
    "import matplotlib.pyplot as plt\n",
    "\n",
    "fname = '/srv/scratch/z3533156/26year_BRAN2020/outer_avg_01461.nc'\n",
    "dataset = nc.Dataset(fname)\n",
    "lon_rho  = dataset.variables['lon_rho']\n",
    "lon_rho = np.transpose(lon_rho, axes=(1, 0))\n",
    "lat_rho  = dataset.variables['lat_rho']\n",
    "lat_rho = np.transpose(lat_rho, axes=(1, 0))\n",
    "z_r = np.load('/home/z5297792/UNSW-MRes/MRes/z_r.npy')\n",
    "z_r = np.transpose(z_r, (1, 2, 0))\n",
    "h = dataset.variables['h']\n",
    "h = np.transpose(h, (1, 0))\n",
    "previous_file_idx = -1\n",
    "TOTAL_NUM_DAYS = len(daydic)"
   ]
  },
  {
   "cell_type": "code",
   "execution_count": 5,
   "id": "f1dfa38e-6c36-4aa2-a514-687639b6cd48",
   "metadata": {},
   "outputs": [
    {
     "name": "stdout",
     "output_type": "stream",
     "text": [
      "482.0\n",
      "Eddy790\n"
     ]
    }
   ],
   "source": [
    "max_age = 0\n",
    "for e in eddies:\n",
    "    if eddies[e].iloc[0]['Age'] > max_age:\n",
    "        oldest_eddy = e\n",
    "        max_age = eddies[e].iloc[0]['Age']\n",
    "\n",
    "print(max_age)\n",
    "print(oldest_eddy)"
   ]
  },
  {
   "cell_type": "code",
   "execution_count": 6,
   "id": "ea07e048-e957-4de4-b507-9f144e75911b",
   "metadata": {},
   "outputs": [],
   "source": [
    "old_eddies = []\n",
    "for e in eddies:\n",
    "    if eddies[e].iloc[0]['Age'] > 100:\n",
    "        old_eddies.append(e)\n"
   ]
  },
  {
   "cell_type": "code",
   "execution_count": 19,
   "id": "7c31e1f0-56fe-4d1f-87e1-78cc1e70b8ef",
   "metadata": {
    "editable": true,
    "slideshow": {
     "slide_type": ""
    },
    "tags": []
   },
   "outputs": [
    {
     "data": {
      "image/png": "[encoded data removed]",
      "text/plain": [
       "<Figure size 640x480 with 1 Axes>"
      ]
     },
     "metadata": {},
     "output_type": "display_data"
    }
   ],
   "source": [
    "import matplotlib.pyplot as plt\n",
    "\n",
    "for e in range (9,10):\n",
    "    edata = eddies['Eddy'+str(e)]\n",
    "    \n",
    "    plt.contourf(lon_rho,lat_rho,h)\n",
    "    ecolor = 'red' if edata.Vort.iloc[0] > 0 else 'blue'\n",
    "    plt.plot(edata.Lon, edata.Lat, color=ecolor)\n",
    "    plt.scatter(edata.Lon.iloc[-1], edata.Lat.iloc[-1], color=ecolor)\n",
    "    plt.axis('equal')"
   ]
  },
  {
   "cell_type": "code",
   "execution_count": 11,
   "id": "c9a91d91-872d-4fcc-b741-0f47de59a2b0",
   "metadata": {},
   "outputs": [
    {
     "data": {
      "text/html": [
       "<div>\n",
       "<style scoped>\n",
       "    .dataframe tbody tr th:only-of-type {\n",
       "        vertical-align: middle;\n",
       "    }\n",
       "\n",
       "    .dataframe tbody tr th {\n",
       "        vertical-align: top;\n",
       "    }\n",
       "\n",
       "    .dataframe thead th {\n",
       "        text-align: right;\n",
       "    }\n",
       "</style>\n",
       "<table border=\"1\" class=\"dataframe\">\n",
       "  <thead>\n",
       "    <tr style=\"text-align: right;\">\n",
       "      <th></th>\n",
       "      <th>Lon</th>\n",
       "      <th>Lat</th>\n",
       "      <th>Vort</th>\n",
       "      <th>Id</th>\n",
       "      <th>Age</th>\n",
       "    </tr>\n",
       "  </thead>\n",
       "  <tbody>\n",
       "    <tr>\n",
       "      <th>Day1</th>\n",
       "      <td>157.131974</td>\n",
       "      <td>-32.627830</td>\n",
       "      <td>-0.000039</td>\n",
       "      <td>19.0</td>\n",
       "      <td>75</td>\n",
       "    </tr>\n",
       "    <tr>\n",
       "      <th>Day2</th>\n",
       "      <td>157.211777</td>\n",
       "      <td>-32.558455</td>\n",
       "      <td>-0.000038</td>\n",
       "      <td>19.0</td>\n",
       "      <td>75</td>\n",
       "    </tr>\n",
       "    <tr>\n",
       "      <th>Day3</th>\n",
       "      <td>157.259161</td>\n",
       "      <td>-32.502614</td>\n",
       "      <td>-0.000033</td>\n",
       "      <td>19.0</td>\n",
       "      <td>75</td>\n",
       "    </tr>\n",
       "    <tr>\n",
       "      <th>Day4</th>\n",
       "      <td>157.389785</td>\n",
       "      <td>-32.448894</td>\n",
       "      <td>-0.000034</td>\n",
       "      <td>19.0</td>\n",
       "      <td>75</td>\n",
       "    </tr>\n",
       "    <tr>\n",
       "      <th>Day5</th>\n",
       "      <td>157.440631</td>\n",
       "      <td>-32.464508</td>\n",
       "      <td>-0.000035</td>\n",
       "      <td>19.0</td>\n",
       "      <td>75</td>\n",
       "    </tr>\n",
       "    <tr>\n",
       "      <th>...</th>\n",
       "      <td>...</td>\n",
       "      <td>...</td>\n",
       "      <td>...</td>\n",
       "      <td>...</td>\n",
       "      <td>...</td>\n",
       "    </tr>\n",
       "    <tr>\n",
       "      <th>Day71</th>\n",
       "      <td>154.914211</td>\n",
       "      <td>-30.075184</td>\n",
       "      <td>-0.000021</td>\n",
       "      <td>19.0</td>\n",
       "      <td>75</td>\n",
       "    </tr>\n",
       "    <tr>\n",
       "      <th>Day72</th>\n",
       "      <td>154.813996</td>\n",
       "      <td>-29.996181</td>\n",
       "      <td>-0.000020</td>\n",
       "      <td>19.0</td>\n",
       "      <td>75</td>\n",
       "    </tr>\n",
       "    <tr>\n",
       "      <th>Day73</th>\n",
       "      <td>154.718140</td>\n",
       "      <td>-29.918510</td>\n",
       "      <td>-0.000020</td>\n",
       "      <td>19.0</td>\n",
       "      <td>75</td>\n",
       "    </tr>\n",
       "    <tr>\n",
       "      <th>Day74</th>\n",
       "      <td>154.739374</td>\n",
       "      <td>-29.782840</td>\n",
       "      <td>-0.000017</td>\n",
       "      <td>19.0</td>\n",
       "      <td>75</td>\n",
       "    </tr>\n",
       "    <tr>\n",
       "      <th>Day75</th>\n",
       "      <td>154.815168</td>\n",
       "      <td>-29.664416</td>\n",
       "      <td>-0.000015</td>\n",
       "      <td>19.0</td>\n",
       "      <td>75</td>\n",
       "    </tr>\n",
       "  </tbody>\n",
       "</table>\n",
       "<p>75 rows × 5 columns</p>\n",
       "</div>"
      ],
      "text/plain": [
       "              Lon        Lat      Vort    Id  Age\n",
       "Day1   157.131974 -32.627830 -0.000039  19.0   75\n",
       "Day2   157.211777 -32.558455 -0.000038  19.0   75\n",
       "Day3   157.259161 -32.502614 -0.000033  19.0   75\n",
       "Day4   157.389785 -32.448894 -0.000034  19.0   75\n",
       "Day5   157.440631 -32.464508 -0.000035  19.0   75\n",
       "...           ...        ...       ...   ...  ...\n",
       "Day71  154.914211 -30.075184 -0.000021  19.0   75\n",
       "Day72  154.813996 -29.996181 -0.000020  19.0   75\n",
       "Day73  154.718140 -29.918510 -0.000020  19.0   75\n",
       "Day74  154.739374 -29.782840 -0.000017  19.0   75\n",
       "Day75  154.815168 -29.664416 -0.000015  19.0   75\n",
       "\n",
       "[75 rows x 5 columns]"
      ]
     },
     "execution_count": 11,
     "metadata": {},
     "output_type": "execute_result"
    }
   ],
   "source": [
    "edata"
   ]
  }
 ],
 "metadata": {
  "kernelspec": {
   "display_name": "Python 3.10.8 (ipykernel)",
   "language": "python",
   "name": "python3"
  },
  "language_info": {
   "codemirror_mode": {
    "name": "ipython",
    "version": 3
   },
   "file_extension": ".py",
   "mimetype": "text/x-python",
   "name": "python",
   "nbconvert_exporter": "python",
   "pygments_lexer": "ipython3",
   "version": "3.10.8"
  }
 },
 "nbformat": 4,
 "nbformat_minor": 5
}
